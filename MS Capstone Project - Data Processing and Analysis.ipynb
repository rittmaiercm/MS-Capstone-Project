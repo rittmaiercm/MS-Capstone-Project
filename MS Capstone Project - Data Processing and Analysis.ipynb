{
 "cells": [
  {
   "cell_type": "code",
   "execution_count": null,
   "id": "711fde9c",
   "metadata": {},
   "outputs": [],
   "source": [
    "import datetime\n",
    "import json\n",
    "import pandas as pd\n",
    "import psycopg2\n",
    "import os\n",
    "import seaborn as sns\n",
    "\n",
    "import plotly.express as px\n",
    "import plotly.graph_objects as go\n",
    "import plotly.io as pio\n",
    "\n",
    "import arcpy\n",
    "from arcgis.features import GeoAccessor, GeoSeriesAccessor\n",
    "from arcpy import env"
   ]
  },
  {
   "cell_type": "markdown",
   "id": "52cb3471",
   "metadata": {},
   "source": [
    "### Get raw data from SafeGraph database and create dataframes for the parks of interest\n",
    "##### Victor Ashe Park & Lakeshore Park"
   ]
  },
  {
   "cell_type": "code",
   "execution_count": null,
   "id": "3706e51a",
   "metadata": {},
   "outputs": [],
   "source": [
    "# Set up dataframe columns needed for analysis\n",
    "\n",
    "fields = ['placekey', 'parent_placekey', 'location_name', 'street_address', 'city', 'region',\n",
    "          'postal_code', 'safegraph_brand_ids', 'brands', 'date_range_start', 'date_range_end',\n",
    "          'raw_visit_counts', 'raw_visitor_counts', 'visits_by_day', 'poi_cbg',\n",
    "          'visitor_home_cbgs', 'visitor_daytime_cbgs', 'visitor_country_of_origin',\n",
    "          'distance_from_home', 'median_dwell', 'bucketed_dwell_times', 'related_same_day_brand',\n",
    "          'device_type']\n",
    "\n",
    "field_str = ', '.join(fields)"
   ]
  },
  {
   "cell_type": "code",
   "execution_count": null,
   "id": "5bbb429c",
   "metadata": {},
   "outputs": [],
   "source": [
    "# Function to get dataframe with connection parameters\n",
    "\n",
    "def get_dataframe(query):\n",
    "    try:\n",
    "        connection = psycopg2.connect(user='___________',\n",
    "                                      password='___________',\n",
    "                                      host='___________',\n",
    "                                      port=___________,\n",
    "                                      database='___________')\n",
    "        connection.set_client_encoding(\"UTF8\")\n",
    "        print(connection.get_dsn_parameters(), \"\\n\")\n",
    "        cursor = connection.cursor()\n",
    "        cursor.execute(\"SELECT version();\")\n",
    "        record = cursor.fetchone()\n",
    "        print(\"You are connected to - \", record, \"\\n\")\n",
    "        with connection:\n",
    "            cursor = connection.cursor()\n",
    "            cursor.execute(query)\n",
    "            rows = cursor.fetchall()\n",
    "        data_frame = pd.DataFrame(rows, columns = fields)\n",
    "    except (Exception, psycopg2.Error) as error:\n",
    "        print(\"Error while connecting to PostgreSQL\", error)\n",
    "    finally:\n",
    "        if (connection):\n",
    "            cursor.close()\n",
    "            connection.close()\n",
    "            print(\"PostgreSQL connection is closed\")\n",
    "    return data_frame"
   ]
  },
  {
   "cell_type": "code",
   "execution_count": null,
   "id": "67032cc8",
   "metadata": {},
   "outputs": [],
   "source": [
    "lakeshore_park = get_dataframe(f\"SELECT {field_str} FROM safegraph.weeklypatterns WHERE poi_cbg LIKE '47093%' AND location_name LIKE 'Lakeshore Park'\")\n",
    "lakeshore_park.to_csv(r\"C:\\Users\\18f\\Desktop\\Capstone Project\\Jupyter Notebook\\lakeshore_park.csv\")\n",
    "\n",
    "lakeshore_park.head(5)"
   ]
  },
  {
   "cell_type": "code",
   "execution_count": null,
   "id": "96ad76c0",
   "metadata": {},
   "outputs": [],
   "source": [
    "victor_ashe_park = get_dataframe(f\"SELECT {field_str} FROM safegraph.weeklypatterns WHERE poi_cbg LIKE '47093%' AND location_name LIKE 'Victor Ashe Park'\")\n",
    "victor_ashe_park.to_csv(r\"C:\\Users\\18f\\Desktop\\Capstone Project\\Jupyter Notebook\\victor_ashe_park.csv\")\n",
    "\n",
    "victor_ashe_park.head()"
   ]
  },
  {
   "cell_type": "markdown",
   "id": "e943dcdd",
   "metadata": {},
   "source": [
    "### Read in processed datasets that will be used for the analyses"
   ]
  },
  {
   "cell_type": "code",
   "execution_count": null,
   "id": "5e22b54f",
   "metadata": {},
   "outputs": [],
   "source": [
    "# the _parse datasets are for the line graphs so that the dates show as a monthly value for the x axis\n",
    "lakeshore_park_parse = pd.read_csv(r\"C:\\Users\\18f\\Desktop\\Capstone Project\\Data\\SafeGraph Datasets\\final_spreadsheets\\lakeshore_park_2019_2020.csv\", parse_dates=['start_date'], dayfirst=False)\n",
    "victor_ashe_parse = pd.read_csv(r\"C:\\Users\\18f\\Desktop\\Capstone Project\\Data\\SafeGraph Datasets\\final_spreadsheets\\victor_ashe_park_2019_2020.csv\", parse_dates=['start_date'], dayfirst=False)\n",
    "\n",
    "# these datasets are not parsed by the date and will be used for the bar charts\n",
    "lakeshore_park = pd.read_csv(r\"C:\\Users\\18f\\Desktop\\Capstone Project\\Data\\SafeGraph Datasets\\final_spreadsheets\\lakeshore_park_2019_2020.csv\")\n",
    "victor_ashe = pd.read_csv(r\"C:\\Users\\18f\\Desktop\\Capstone Project\\Data\\SafeGraph Datasets\\final_spreadsheets\\victor_ashe_park_2019_2020.csv\")"
   ]
  },
  {
   "cell_type": "markdown",
   "id": "e3efe547",
   "metadata": {},
   "source": [
    "### Bar charts of the visit time ranges to each park\n",
    "##### Lakeshore Park Dwell Time Charts"
   ]
  },
  {
   "cell_type": "code",
   "execution_count": null,
   "id": "108cbedb",
   "metadata": {},
   "outputs": [],
   "source": [
    "fig = px.bar(lakeshore_park, x=\"start_date\", y=['bucketed_dwell_times_lessthan5',\n",
    "           'bucketed_dwell_times_5to10', 'bucketed_dwell_times_11to20',\n",
    "           'bucketed_dwell_times_21to60', 'bucketed_dwell_times_61to120',\n",
    "           'bucketed_dwell_times_121to240', 'bucketed_dwell_times_greaterthan240'],\n",
    "           title=\"Length of Time in Minutes that Visitors Spent at Lakeshore Park\")\n",
    "\n",
    "newnames = {\"bucketed_dwell_times_lessthan5\": \"less than 5 minutes\",\n",
    "           \"bucketed_dwell_times_5to10\": \"5 to 10 minutes\", \n",
    "           \"bucketed_dwell_times_11to20\": \"11 to 20 minutes\",\n",
    "           \"bucketed_dwell_times_21to60\": \"21 to 60 minutes\", \n",
    "           \"bucketed_dwell_times_61to120\": \"61 to 120 minutes\",\n",
    "           \"bucketed_dwell_times_121to240\": \"121 to 240 minutes\", \n",
    "           \"bucketed_dwell_times_greaterthan240\": \"greater than 240 minutes\"}\n",
    "\n",
    "\n",
    "fig.for_each_trace(lambda t: t.update(name = newnames[t.name]))\n",
    "\n",
    "fig.update_layout(barmode='stack', legend_title=\"\")\n",
    "fig.update_yaxes(title_text='Visitor Count')\n",
    "fig.update_xaxes(title_text='Week Starting Date')\n",
    "\n",
    "# fig.update_layout(xaxis = go.layout.XAxis(tickangle = 45))\n",
    "\n",
    "fig.show()\n",
    "\n",
    "pio.write_image(fig, r\"C:\\Users\\18f\\Desktop\\Capstone Project\\Jupyter Notebook\\Capstone_Project_Data\\images\\Lakeshore_bucketed_visit_times_BarChart.png\")"
   ]
  },
  {
   "cell_type": "code",
   "execution_count": null,
   "id": "c178b801",
   "metadata": {},
   "outputs": [],
   "source": [
    "fig = px.histogram(lakeshore_park, x=\"start_date\", y=[' less than 5 minutes', ' 5 to 10 minutes ', ' 11 to 20 minutes',\n",
    "       ' 21 to 60 minutes ', ' 61 to 120 minutes', ' 121 to 240 minutes ', ' greater than 240 minutes'], \n",
    "        title=\"Normalized Length of Time in Minutes that Visitors Spent at Lakeshore Park\")\n",
    "\n",
    "fig.update_layout(barmode='relative', legend_title=\"\")\n",
    "\n",
    "fig.update_yaxes(title_text='Percent Visitor Count', tickformat=\".0%\")\n",
    "fig.update_xaxes(title_text='Week Starting Date')\n",
    "\n",
    "# fig.update_layout(xaxis = go.layout.XAxis(tickangle = 45))\n",
    "\n",
    "fig.show()\n",
    "\n",
    "pio.write_image(fig, r\"C:\\Users\\18f\\Desktop\\Capstone Project\\Jupyter Notebook\\Capstone_Project_Data\\images\\Lakeshore_bucketed_visit_times_NormalizedBarChart.png\")"
   ]
  },
  {
   "cell_type": "markdown",
   "id": "7b8694e8",
   "metadata": {},
   "source": [
    "##### Victor Ashe Park Dwell Time Charts"
   ]
  },
  {
   "cell_type": "code",
   "execution_count": null,
   "id": "37a29886",
   "metadata": {},
   "outputs": [],
   "source": [
    "fig = px.bar(victor_ashe, x=\"start_date\", y=['bucketed_dwell_times_lessthan5',\n",
    "           'bucketed_dwell_times_5to10', 'bucketed_dwell_times_11to20',\n",
    "           'bucketed_dwell_times_21to60', 'bucketed_dwell_times_61to120',\n",
    "           'bucketed_dwell_times_121to240', 'bucketed_dwell_times_greaterthan240'],\n",
    "           title=\"Length of Time in Minutes that Visitors Spent at Victor Ashe Park\")\n",
    "\n",
    "newnames = {\"bucketed_dwell_times_lessthan5\": \"less than 5 minutes\",\n",
    "           \"bucketed_dwell_times_5to10\": \"5 to 10 minutes\", \n",
    "           \"bucketed_dwell_times_11to20\": \"11 to 20 minutes\",\n",
    "           \"bucketed_dwell_times_21to60\": \"21 to 60 minutes\", \n",
    "           \"bucketed_dwell_times_61to120\": \"61 to 120 minutes\",\n",
    "           \"bucketed_dwell_times_121to240\": \"121 to 240 minutes\", \n",
    "           \"bucketed_dwell_times_greaterthan240\": \"greater than 240 minutes\"}\n",
    "\n",
    "\n",
    "fig.for_each_trace(lambda t: t.update(name = newnames[t.name]))\n",
    "\n",
    "fig.update_layout(barmode='stack', legend_title=\"\")\n",
    "fig.update_yaxes(title_text='Visitor Count')\n",
    "fig.update_xaxes(title_text='Week Starting Date')\n",
    "\n",
    "# fig.update_layout(xaxis = go.layout.XAxis(tickangle = 45))\n",
    "\n",
    "fig.show()\n",
    "\n",
    "pio.write_image(fig, r\"C:\\Users\\18f\\Desktop\\Capstone Project\\Jupyter Notebook\\Capstone_Project_Data\\images\\Victor_Ashe_bucketed_visit_times_BarChart.png\")"
   ]
  },
  {
   "cell_type": "code",
   "execution_count": null,
   "id": "2a05b309",
   "metadata": {},
   "outputs": [],
   "source": [
    "fig = px.histogram(victor_ashe, x=\"start_date\", y=[' less than 5 minutes', ' 5 to 10 minutes ', ' 11 to 20 minutes',\n",
    "       ' 21 to 60 minutes ', ' 61 to 120 minutes', ' 121 to 240 minutes ', ' greater than 240 minutes'], \n",
    "        title=\"Normalized Length of Time in Minutes that Visitors Spent at Victor Ashe Park\")\n",
    "\n",
    "fig.update_layout(barmode='relative', legend_title=\"\")\n",
    "\n",
    "fig.update_yaxes(title_text='Percent Visitor Count', tickformat=\".0%\")\n",
    "fig.update_xaxes(title_text='Week Starting Date')\n",
    "\n",
    "# fig.update_layout(xaxis = go.layout.XAxis(tickangle = 45))\n",
    "\n",
    "fig.show()\n",
    "\n",
    "pio.write_image(fig, r\"C:\\Users\\18f\\Desktop\\Capstone Project\\Jupyter Notebook\\Capstone_Project_Data\\images\\Victor_Ashe_bucketed_visit_times_NormalizedBarChart.png\")"
   ]
  },
  {
   "cell_type": "markdown",
   "id": "1f108073",
   "metadata": {},
   "source": [
    "### Create the seasonal datasets from the full dataset for each park\n",
    "##### Lakeshore Park Seasonal Dataset Processing and Statistics"
   ]
  },
  {
   "cell_type": "code",
   "execution_count": null,
   "id": "db124ed4",
   "metadata": {},
   "outputs": [],
   "source": [
    "lakeshore_winter_2018 = lakeshore_park[lakeshore_park['season'] == 'Winter']\n",
    "lakeshore_spring_2019 = lakeshore_park[lakeshore_park['season'] == 'Spring']\n",
    "lakeshore_summer_2019 = lakeshore_park[lakeshore_park['season'] == 'Summer']\n",
    "lakeshore_fall_2019 = lakeshore_park[lakeshore_park['season'] == 'Fall']\n",
    "\n",
    "lakeshore_winter_2019 = lakeshore_park[lakeshore_park['season'] == 'Winter 2']\n",
    "lakeshore_spring_2020 = lakeshore_park[lakeshore_park['season'] == 'Spring 2']\n",
    "lakeshore_summer_2020 = lakeshore_park[lakeshore_park['season'] == 'Summer 2']\n",
    "lakeshore_fall_2020 = lakeshore_park[lakeshore_park['season'] == 'Fall 2']"
   ]
  },
  {
   "cell_type": "code",
   "execution_count": null,
   "id": "b5761d66",
   "metadata": {},
   "outputs": [],
   "source": [
    "lakeshore_winter_2018.to_csv(r\"C:\\Users\\18f\\Desktop\\Capstone Project\\Data\\SafeGraph Datasets\\final_spreadsheets\\by season\\lakeshore_winter_2018.csv\")\n",
    "lakeshore_winter_2018.raw_visit_counts.describe()"
   ]
  },
  {
   "cell_type": "code",
   "execution_count": null,
   "id": "889136b6",
   "metadata": {},
   "outputs": [],
   "source": [
    "lakeshore_spring_2019.to_csv(r\"C:\\Users\\18f\\Desktop\\Capstone Project\\Data\\SafeGraph Datasets\\final_spreadsheets\\by season\\lakeshore_spring_2019.csv\")\n",
    "lakeshore_spring_2019.raw_visit_counts.describe()"
   ]
  },
  {
   "cell_type": "code",
   "execution_count": null,
   "id": "18e435df",
   "metadata": {},
   "outputs": [],
   "source": [
    "lakeshore_summer_2019.to_csv(r\"C:\\Users\\18f\\Desktop\\Capstone Project\\Data\\SafeGraph Datasets\\final_spreadsheets\\by season\\lakeshore_summer_2019.csv\")\n",
    "lakeshore_summer_2019.raw_visit_counts.describe()"
   ]
  },
  {
   "cell_type": "code",
   "execution_count": null,
   "id": "ebd54753",
   "metadata": {},
   "outputs": [],
   "source": [
    "lakeshore_fall_2019.to_csv(r\"C:\\Users\\18f\\Desktop\\Capstone Project\\Data\\SafeGraph Datasets\\final_spreadsheets\\by season\\lakeshore_fall_2019.csv\")\n",
    "lakeshore_fall_2019.raw_visit_counts.describe()"
   ]
  },
  {
   "cell_type": "code",
   "execution_count": null,
   "id": "81edebfa",
   "metadata": {},
   "outputs": [],
   "source": [
    "lakeshore_winter_2019.to_csv(r\"C:\\Users\\18f\\Desktop\\Capstone Project\\Data\\SafeGraph Datasets\\final_spreadsheets\\by season\\lakeshore_winter_2019.csv\")\n",
    "lakeshore_winter_2019.raw_visit_counts.describe()"
   ]
  },
  {
   "cell_type": "code",
   "execution_count": null,
   "id": "b02bd3c0",
   "metadata": {},
   "outputs": [],
   "source": [
    "lakeshore_spring_2020.to_csv(r\"C:\\Users\\18f\\Desktop\\Capstone Project\\Data\\SafeGraph Datasets\\final_spreadsheets\\by season\\lakeshore_spring_2020.csv\")\n",
    "lakeshore_spring_2020.raw_visit_counts.describe()"
   ]
  },
  {
   "cell_type": "code",
   "execution_count": null,
   "id": "a020cec0",
   "metadata": {},
   "outputs": [],
   "source": [
    "lakeshore_summer_2020.to_csv(r\"C:\\Users\\18f\\Desktop\\Capstone Project\\Data\\SafeGraph Datasets\\final_spreadsheets\\by season\\lakeshore_summer_2020.csv\")\n",
    "lakeshore_summer_2020.raw_visit_counts.describe()"
   ]
  },
  {
   "cell_type": "code",
   "execution_count": null,
   "id": "a9efe0e5",
   "metadata": {},
   "outputs": [],
   "source": [
    "lakeshore_fall_2020.to_csv(r\"C:\\Users\\18f\\Desktop\\Capstone Project\\Data\\SafeGraph Datasets\\final_spreadsheets\\by season\\lakeshore_fall_2020.csv\")\n",
    "lakeshore_fall_2020.raw_visit_counts.describe()"
   ]
  },
  {
   "cell_type": "markdown",
   "id": "2ac63f1c",
   "metadata": {},
   "source": [
    "##### Victor Ashe Seasonal Dataset Processing and Statistics"
   ]
  },
  {
   "cell_type": "code",
   "execution_count": null,
   "id": "0967fa30",
   "metadata": {},
   "outputs": [],
   "source": [
    "victor_ashe_winter_2018 = victor_ashe[victor_ashe['season'] == 'Winter']\n",
    "victor_ashe_spring_2019 = victor_ashe[victor_ashe['season'] == 'Spring']\n",
    "victor_ashe_summer_2019 = victor_ashe[victor_ashe['season'] == 'Summer']\n",
    "victor_ashe_fall_2019 = victor_ashe[victor_ashe['season'] == 'Fall']\n",
    "\n",
    "victor_ashe_winter_2019 = victor_ashe[victor_ashe['season'] == 'Winter 2']\n",
    "victor_ashe_spring_2020 = victor_ashe[victor_ashe['season'] == 'Spring 2']\n",
    "victor_ashe_summer_2020 = victor_ashe[victor_ashe['season'] == 'Summer 2']\n",
    "victor_ashe_fall_2020 = victor_ashe[victor_ashe['season'] == 'Fall 2']"
   ]
  },
  {
   "cell_type": "code",
   "execution_count": null,
   "id": "6b57a3d7",
   "metadata": {},
   "outputs": [],
   "source": [
    "victor_ashe_winter_2018.to_csv(r\"C:\\Users\\18f\\Desktop\\Capstone Project\\Data\\SafeGraph Datasets\\final_spreadsheets\\by season\\victor_ashe_winter_2018.csv\")\n",
    "victor_ashe_winter_2018.raw_visit_counts.describe()"
   ]
  },
  {
   "cell_type": "code",
   "execution_count": null,
   "id": "de506807",
   "metadata": {},
   "outputs": [],
   "source": [
    "victor_ashe_spring_2019.to_csv(r\"C:\\Users\\18f\\Desktop\\Capstone Project\\Data\\SafeGraph Datasets\\final_spreadsheets\\by season\\victor_ashe_spring_2019.csv\")\n",
    "victor_ashe_spring_2019.raw_visit_counts.describe()"
   ]
  },
  {
   "cell_type": "code",
   "execution_count": null,
   "id": "29e4c96b",
   "metadata": {},
   "outputs": [],
   "source": [
    "victor_ashe_summer_2019.to_csv(r\"C:\\Users\\18f\\Desktop\\Capstone Project\\Data\\SafeGraph Datasets\\final_spreadsheets\\by season\\victor_ashe_summer_2019.csv\")\n",
    "victor_ashe_summer_2019.raw_visit_counts.describe()"
   ]
  },
  {
   "cell_type": "code",
   "execution_count": null,
   "id": "51015976",
   "metadata": {},
   "outputs": [],
   "source": [
    "victor_ashe_fall_2019.to_csv(r\"C:\\Users\\18f\\Desktop\\Capstone Project\\Data\\SafeGraph Datasets\\final_spreadsheets\\by season\\victor_ashe_fall_2019.csv\")\n",
    "victor_ashe_fall_2019.raw_visit_counts.describe()"
   ]
  },
  {
   "cell_type": "code",
   "execution_count": null,
   "id": "d3f0d853",
   "metadata": {},
   "outputs": [],
   "source": [
    "victor_ashe_winter_2019.to_csv(r\"C:\\Users\\18f\\Desktop\\Capstone Project\\Data\\SafeGraph Datasets\\final_spreadsheets\\by season\\victor_ashe_winter_2019.csv\")\n",
    "victor_ashe_winter_2019.raw_visit_counts.describe()"
   ]
  },
  {
   "cell_type": "code",
   "execution_count": null,
   "id": "c1d377db",
   "metadata": {},
   "outputs": [],
   "source": [
    "victor_ashe_spring_2020.to_csv(r\"C:\\Users\\18f\\Desktop\\Capstone Project\\Data\\SafeGraph Datasets\\final_spreadsheets\\by season\\victor_ashe_spring_2020.csv\")\n",
    "victor_ashe_spring_2020.raw_visit_counts.describe()"
   ]
  },
  {
   "cell_type": "code",
   "execution_count": null,
   "id": "50c890c9",
   "metadata": {},
   "outputs": [],
   "source": [
    "victor_ashe_summer_2020.to_csv(r\"C:\\Users\\18f\\Desktop\\Capstone Project\\Data\\SafeGraph Datasets\\final_spreadsheets\\by season\\victor_ashe_summer_2020.csv\")\n",
    "victor_ashe_summer_2020.raw_visit_counts.describe()"
   ]
  },
  {
   "cell_type": "code",
   "execution_count": null,
   "id": "6f675691",
   "metadata": {},
   "outputs": [],
   "source": [
    "victor_ashe_fall_2020.to_csv(r\"C:\\Users\\18f\\Desktop\\Capstone Project\\Data\\SafeGraph Datasets\\final_spreadsheets\\by season\\victor_ashe_fall_2020.csv\")\n",
    "victor_ashe_fall_2020.raw_visit_counts.describe()"
   ]
  },
  {
   "cell_type": "markdown",
   "id": "2ff48beb",
   "metadata": {},
   "source": [
    "### Graphs of the raw visit counts for each park"
   ]
  },
  {
   "cell_type": "code",
   "execution_count": null,
   "id": "06e2229e",
   "metadata": {},
   "outputs": [],
   "source": [
    "fig = px.line(lakeshore_park_parse, x=\"start_date\", \n",
    "              y=\"raw_visit_counts\", \n",
    "              color=\"season\",\n",
    "              line_shape='spline',\n",
    "              markers=True,\n",
    "              color_discrete_map={\n",
    "                  \"Spring\": \"green\",\n",
    "                  \"Spring 2\": \"green\",\n",
    "                  \"Summer\": \"red\",\n",
    "                  \"Summer 2\": \"red\",\n",
    "                  \"Fall\": \"purple\",\n",
    "                  \"Fall 2\": \"purple\",\n",
    "                  \"Winter\": \"blue\",\n",
    "                  \"Winter 2\": \"blue\"})\n",
    "\n",
    "\n",
    "fig.update_layout({\"title\": '<b>''Lakeshore Park SafeGraph Seasonal Visitation <br> Pre-COVID and During COVID''</b>',\n",
    "                  \"title_x\": 0.5,\n",
    "                  \"xaxis\": {\"title\":\"Months\"},\n",
    "                  \"yaxis\": {\"title\":\"Total Park Visits\"},\n",
    "                  \"showlegend\": True})\n",
    "\n",
    "for trace in fig['data']:\n",
    "    if(trace['name'] == 'Spring 2'): trace['showlegend'] = False\n",
    "        \n",
    "for trace in fig['data']:\n",
    "    if(trace['name'] == 'Summer 2'): trace['showlegend'] = False\n",
    "        \n",
    "for trace in fig['data']:\n",
    "    if(trace['name'] == 'Fall 2'): trace['showlegend'] = False\n",
    "        \n",
    "for trace in fig['data']:\n",
    "    if(trace['name'] == 'Winter 2'): trace['showlegend'] = False\n",
    "\n",
    "fig.update_layout(legend_title=\"Seasons\")\n",
    "fig.update_yaxes(range = [0, 1100], title_text = \"Visitor Count\") \n",
    "fig.update_xaxes(title_text = \"\")\n",
    "fig.show()\n",
    "\n",
    "pio.write_image(fig, r\"C:\\Users\\18f\\Desktop\\Capstone Project\\Jupyter Notebook\\Capstone_Project_Data\\images\\Lakeshore_Seasonal_SafeGraph_LineGraph.png\")"
   ]
  },
  {
   "cell_type": "code",
   "execution_count": null,
   "id": "e00f15ac",
   "metadata": {},
   "outputs": [],
   "source": [
    "fig = px.line(victor_ashe_parse, x=\"start_date\", \n",
    "              y=\"raw_visit_counts\", \n",
    "              color=\"season\",\n",
    "              line_shape='spline',\n",
    "              markers=True,\n",
    "              color_discrete_map={\n",
    "                  \"Spring\": \"green\",\n",
    "                  \"Spring 2\": \"green\",\n",
    "                  \"Summer\": \"red\",\n",
    "                  \"Summer 2\": \"red\",\n",
    "                  \"Fall\": \"purple\",\n",
    "                  \"Fall 2\": \"purple\",\n",
    "                  \"Winter\": \"blue\",\n",
    "                  \"Winter 2\": \"blue\"})\n",
    "\n",
    "\n",
    "fig.update_layout({\"title\": '<b>''Victor Ashe Park SafeGraph Seasonal Visitation Rates <br> Pre-COVID and During COVID''</b>',\n",
    "                  \"title_x\": 0.5,\n",
    "                  \"xaxis\": {\"title\":\"Months\"},\n",
    "                  \"yaxis\": {\"title\":\"Total Park Visits\"},\n",
    "                  \"showlegend\": True})\n",
    "\n",
    "for trace in fig['data']:\n",
    "    if(trace['name'] == 'Spring 2'): trace['showlegend'] = False\n",
    "        \n",
    "for trace in fig['data']:\n",
    "    if(trace['name'] == 'Summer 2'): trace['showlegend'] = False\n",
    "        \n",
    "for trace in fig['data']:\n",
    "    if(trace['name'] == 'Fall 2'): trace['showlegend'] = False\n",
    "        \n",
    "for trace in fig['data']:\n",
    "    if(trace['name'] == 'Winter 2'): trace['showlegend'] = False\n",
    "        \n",
    "fig.update_layout(legend_title=\"Seasons\")\n",
    "fig.update_yaxes(range = [0, 3700], title_text = \"Visitor Count\") \n",
    "fig.update_xaxes(title_text = \"\")\n",
    "\n",
    "fig.show()\n",
    "\n",
    "pio.write_image(fig, r\"C:\\Users\\18f\\Desktop\\Capstone Project\\Jupyter Notebook\\Capstone_Project_Data\\images\\Victor_Ashe_Seasonal_SafeGraph_LineGraph.png\")"
   ]
  },
  {
   "cell_type": "markdown",
   "id": "aa55a372",
   "metadata": {},
   "source": [
    "### Get the cbgs count for each season in an excel file\n",
    "##### Lakeshore Park"
   ]
  },
  {
   "cell_type": "code",
   "execution_count": null,
   "id": "0b284c78",
   "metadata": {},
   "outputs": [],
   "source": [
    "lakeshore_winter_2018_dict  = {}\n",
    "\n",
    "def iter_thru_logs(log):\n",
    "    log = json.loads(log.replace(\"'\", '\"'))\n",
    "    for k, v in log.items():\n",
    "        lakeshore_winter_2018_dict[k] = lakeshore_winter_2018_dict.setdefault(k, 0) + v\n",
    "        \n",
    "lakeshore_winter_2018['visitor_home_cbgs'].apply(iter_thru_logs)\n",
    "\n",
    "lakeshore_winter_2018_dict\n",
    "\n",
    "lakeshore_winter_2018_df_out = pd.DataFrame({'cbgs_id': [x for x in lakeshore_winter_2018_dict.keys()],\n",
    "                       'cbgs_count': [y for y in lakeshore_winter_2018_dict.values()]})\n",
    "\n",
    "lakeshore_winter_2018_df_out.to_excel(r\"C:\\Users\\18f\\Desktop\\Capstone Project\\Jupyter Notebook\\Capstone_Project_Data\\datasets\\cbgs_counts_by_season\\lakeshore_winter_2018_cbgs.xlsx\")"
   ]
  },
  {
   "cell_type": "code",
   "execution_count": null,
   "id": "3728b3d6",
   "metadata": {},
   "outputs": [],
   "source": [
    "lakeshore_spring_2019_dict = {}\n",
    "\n",
    "def iter_thru_logs(log):\n",
    "    log = json.loads(log.replace(\"'\", '\"'))\n",
    "    for k, v in log.items():\n",
    "        lakeshore_spring_2019_dict[k] = lakeshore_spring_2019_dict.setdefault(k, 0) + v\n",
    "        \n",
    "lakeshore_spring_2019['visitor_home_cbgs'].apply(iter_thru_logs)\n",
    "\n",
    "lakeshore_spring_2019_dict\n",
    "\n",
    "lakeshore_spring_2019_df_out = pd.DataFrame({'cbgs_id': [x for x in lakeshore_spring_2019_dict.keys()],\n",
    "                       'cbgs_count': [y for y in lakeshore_spring_2019_dict.values()]})\n",
    "\n",
    "lakeshore_spring_2019_df_out.to_excel(r\"C:\\Users\\18f\\Desktop\\Capstone Project\\Jupyter Notebook\\Capstone_Project_Data\\datasets\\cbgs_counts_by_season\\lakeshore_spring_2019_cbgs.xlsx\")"
   ]
  },
  {
   "cell_type": "code",
   "execution_count": null,
   "id": "8a88394d",
   "metadata": {},
   "outputs": [],
   "source": [
    "lakeshore_summer_2019_dict = {}\n",
    "\n",
    "def iter_thru_logs(log):\n",
    "    log = json.loads(log.replace(\"'\", '\"'))\n",
    "    for k, v in log.items():\n",
    "        lakeshore_summer_2019_dict[k] = lakeshore_summer_2019_dict.setdefault(k, 0) + v\n",
    "        \n",
    "lakeshore_summer_2019['visitor_home_cbgs'].apply(iter_thru_logs)\n",
    "\n",
    "lakeshore_summer_2019_dict\n",
    "\n",
    "lakeshore_summer_2019_df_out = pd.DataFrame({'cbgs_id': [x for x in lakeshore_summer_2019_dict.keys()],\n",
    "                       'cbgs_count': [y for y in lakeshore_summer_2019_dict.values()]})\n",
    "\n",
    "lakeshore_summer_2019_df_out.to_excel(r\"C:\\Users\\18f\\Desktop\\Capstone Project\\Jupyter Notebook\\Capstone_Project_Data\\datasets\\cbgs_counts_by_season\\lakeshore_summer_2019_cbgs.xlsx\")"
   ]
  },
  {
   "cell_type": "code",
   "execution_count": null,
   "id": "c721ff8e",
   "metadata": {},
   "outputs": [],
   "source": [
    "lakeshore_fall_2019_dict = {}\n",
    "\n",
    "def iter_thru_logs(log):\n",
    "    log = json.loads(log.replace(\"'\", '\"'))\n",
    "    for k, v in log.items():\n",
    "        lakeshore_fall_2019_dict[k] = lakeshore_fall_2019_dict.setdefault(k, 0) + v\n",
    "        \n",
    "lakeshore_fall_2019['visitor_home_cbgs'].apply(iter_thru_logs)\n",
    "\n",
    "lakeshore_fall_2019_dict\n",
    "\n",
    "lakeshore_fall_2019_df_out = pd.DataFrame({'cbgs_id': [x for x in lakeshore_fall_2019_dict.keys()],\n",
    "                       'cbgs_count': [y for y in lakeshore_fall_2019_dict.values()]})\n",
    "\n",
    "lakeshore_fall_2019_df_out.to_excel(r\"C:\\Users\\18f\\Desktop\\Capstone Project\\Jupyter Notebook\\Capstone_Project_Data\\datasets\\cbgs_counts_by_season\\lakeshore_fall_2019_cbgs.xlsx\")"
   ]
  },
  {
   "cell_type": "code",
   "execution_count": null,
   "id": "3999c3b9",
   "metadata": {},
   "outputs": [],
   "source": [
    "lakeshore_winter_2019_dict = {}\n",
    "\n",
    "def iter_thru_logs(log):\n",
    "    log = json.loads(log.replace(\"'\", '\"'))\n",
    "    for k, v in log.items():\n",
    "        lakeshore_winter_2019_dict[k] = lakeshore_winter_2019_dict.setdefault(k, 0) + v\n",
    "        \n",
    "lakeshore_winter_2019['visitor_home_cbgs'].apply(iter_thru_logs)\n",
    "\n",
    "lakeshore_winter_2019_dict\n",
    "\n",
    "lakeshore_winter_2019_df_out = pd.DataFrame({'cbgs_id': [x for x in lakeshore_winter_2019_dict.keys()],\n",
    "                       'cbgs_count': [y for y in lakeshore_winter_2019_dict.values()]})\n",
    "\n",
    "lakeshore_winter_2019_df_out.to_excel(r\"C:\\Users\\18f\\Desktop\\Capstone Project\\Jupyter Notebook\\Capstone_Project_Data\\datasets\\cbgs_counts_by_season\\lakeshore_winter_2019_cbgs.xlsx\")"
   ]
  },
  {
   "cell_type": "code",
   "execution_count": null,
   "id": "77cd2211",
   "metadata": {},
   "outputs": [],
   "source": [
    "lakeshore_spring_2020_dict = {}\n",
    "\n",
    "def iter_thru_logs(log):\n",
    "    log = json.loads(log.replace(\"'\", '\"'))\n",
    "    for k, v in log.items():\n",
    "        lakeshore_spring_2020_dict[k] = lakeshore_spring_2020_dict.setdefault(k, 0) + v\n",
    "        \n",
    "lakeshore_spring_2020['visitor_home_cbgs'].apply(iter_thru_logs)\n",
    "\n",
    "lakeshore_spring_2020_dict\n",
    "\n",
    "lakeshore_spring_2020_df_out = pd.DataFrame({'cbgs_id': [x for x in lakeshore_spring_2020_dict.keys()],\n",
    "                       'cbgs_count': [y for y in lakeshore_spring_2020_dict.values()]})\n",
    "\n",
    "lakeshore_spring_2020_df_out.to_excel(r\"C:\\Users\\18f\\Desktop\\Capstone Project\\Jupyter Notebook\\Capstone_Project_Data\\datasets\\cbgs_counts_by_season\\lakeshore_spring_2020_cbgs.xlsx\")"
   ]
  },
  {
   "cell_type": "code",
   "execution_count": null,
   "id": "c1dea6ca",
   "metadata": {},
   "outputs": [],
   "source": [
    "lakeshore_summer_2020_dict = {}\n",
    "\n",
    "def iter_thru_logs(log):\n",
    "    log = json.loads(log.replace(\"'\", '\"'))\n",
    "    for k, v in log.items():\n",
    "        lakeshore_summer_2020_dict[k] = lakeshore_summer_2020_dict.setdefault(k, 0) + v\n",
    "        \n",
    "lakeshore_summer_2020['visitor_home_cbgs'].apply(iter_thru_logs)\n",
    "\n",
    "lakeshore_summer_2020_dict\n",
    "\n",
    "lakeshore_summer_2020_df_out = pd.DataFrame({'cbgs_id': [x for x in lakeshore_summer_2020_dict.keys()],\n",
    "                       'cbgs_count': [y for y in lakeshore_summer_2020_dict.values()]})\n",
    "\n",
    "lakeshore_summer_2020_df_out.to_excel(r\"C:\\Users\\18f\\Desktop\\Capstone Project\\Jupyter Notebook\\Capstone_Project_Data\\datasets\\cbgs_counts_by_season\\lakeshore_summer_2020_cbgs.xlsx\")"
   ]
  },
  {
   "cell_type": "code",
   "execution_count": null,
   "id": "a534a2be",
   "metadata": {},
   "outputs": [],
   "source": [
    "lakeshore_fall_2020_dict = {}\n",
    "\n",
    "def iter_thru_logs(log):\n",
    "    log = json.loads(log.replace(\"'\", '\"'))\n",
    "    for k, v in log.items():\n",
    "        lakeshore_fall_2020_dict[k] = lakeshore_fall_2020_dict.setdefault(k, 0) + v\n",
    "        \n",
    "lakeshore_fall_2020['visitor_home_cbgs'].apply(iter_thru_logs)\n",
    "\n",
    "lakeshore_fall_2020_dict\n",
    "\n",
    "lakeshore_fall_2020_df_out = pd.DataFrame({'cbgs_id': [x for x in lakeshore_fall_2020_dict.keys()],\n",
    "                       'cbgs_count': [y for y in lakeshore_fall_2020_dict.values()]})\n",
    "\n",
    "lakeshore_fall_2020_df_out.to_excel(r\"C:\\Users\\18f\\Desktop\\Capstone Project\\Jupyter Notebook\\Capstone_Project_Data\\datasets\\cbgs_counts_by_season\\lakeshore_fall_2020_cbgs.xlsx\")"
   ]
  },
  {
   "cell_type": "markdown",
   "id": "8eaf5530",
   "metadata": {},
   "source": [
    "##### Victor Ashe Park"
   ]
  },
  {
   "cell_type": "code",
   "execution_count": null,
   "id": "f6eeee41",
   "metadata": {},
   "outputs": [],
   "source": [
    "victor_ashe_winter_2018_dict = {}\n",
    "\n",
    "def iter_thru_logs(log):\n",
    "    log = json.loads(log.replace(\"'\", '\"'))\n",
    "    for k, v in log.items():\n",
    "        victor_ashe_winter_2018_dict[k] = victor_ashe_winter_2018_dict.setdefault(k, 0) + v\n",
    "        \n",
    "victor_ashe_winter_2018['visitor_home_cbgs'].apply(iter_thru_logs)\n",
    "\n",
    "victor_ashe_winter_2018_dict\n",
    "\n",
    "victor_ashe_winter_2018_df_out = pd.DataFrame({'cbgs_id': [x for x in victor_ashe_winter_2018_dict.keys()],\n",
    "                       'cbgs_count': [y for y in victor_ashe_winter_2018_dict.values()]})\n",
    "\n",
    "victor_ashe_winter_2018_df_out.to_excel(r\"C:\\Users\\18f\\Desktop\\Capstone Project\\Jupyter Notebook\\Capstone_Project_Data\\datasets\\cbgs_counts_by_season\\victor_ashe_winter_2018_cbgs.xlsx\")"
   ]
  },
  {
   "cell_type": "code",
   "execution_count": null,
   "id": "568d798a",
   "metadata": {},
   "outputs": [],
   "source": [
    "victor_ashe_spring_2019_dict = {}\n",
    "\n",
    "def iter_thru_logs(log):\n",
    "    log = json.loads(log.replace(\"'\", '\"'))\n",
    "    for k, v in log.items():\n",
    "        victor_ashe_spring_2019_dict[k] = victor_ashe_spring_2019_dict.setdefault(k, 0) + v\n",
    "        \n",
    "victor_ashe_spring_2019['visitor_home_cbgs'].apply(iter_thru_logs)\n",
    "\n",
    "victor_ashe_spring_2019_dict\n",
    "\n",
    "victor_ashe_spring_2019_df_out = pd.DataFrame({'cbgs_id': [x for x in victor_ashe_spring_2019_dict.keys()],\n",
    "                       'cbgs_count': [y for y in victor_ashe_spring_2019_dict.values()]})\n",
    "\n",
    "victor_ashe_spring_2019_df_out.to_excel(r\"C:\\Users\\18f\\Desktop\\Capstone Project\\Jupyter Notebook\\Capstone_Project_Data\\datasets\\cbgs_counts_by_season\\victor_ashe_spring_2019_cbgs.xlsx\")"
   ]
  },
  {
   "cell_type": "code",
   "execution_count": null,
   "id": "7f358bac",
   "metadata": {},
   "outputs": [],
   "source": [
    "victor_ashe_summer_2019_dict = {}\n",
    "\n",
    "def iter_thru_logs(log):\n",
    "    log = json.loads(log.replace(\"'\", '\"'))\n",
    "    for k, v in log.items():\n",
    "        victor_ashe_summer_2019_dict[k] = victor_ashe_summer_2019_dict.setdefault(k, 0) + v\n",
    "        \n",
    "victor_ashe_summer_2019['visitor_home_cbgs'].apply(iter_thru_logs)\n",
    "\n",
    "victor_ashe_summer_2019_dict\n",
    "\n",
    "victor_ashe_summer_2019_df_out = pd.DataFrame({'cbgs_id': [x for x in victor_ashe_summer_2019_dict.keys()],\n",
    "                       'cbgs_count': [y for y in victor_ashe_summer_2019_dict.values()]})\n",
    "\n",
    "victor_ashe_summer_2019_df_out.to_excel(r\"C:\\Users\\18f\\Desktop\\Capstone Project\\Jupyter Notebook\\Capstone_Project_Data\\datasets\\cbgs_counts_by_season\\victor_ashe_summer_2019_cbgs.xlsx\")"
   ]
  },
  {
   "cell_type": "code",
   "execution_count": null,
   "id": "fa9cc76a",
   "metadata": {},
   "outputs": [],
   "source": [
    "victor_ashe_fall_2019_dict = {}\n",
    "\n",
    "def iter_thru_logs(log):\n",
    "    log = json.loads(log.replace(\"'\", '\"'))\n",
    "    for k, v in log.items():\n",
    "        victor_ashe_fall_2019_dict[k] = victor_ashe_fall_2019_dict.setdefault(k, 0) + v\n",
    "        \n",
    "victor_ashe_fall_2019['visitor_home_cbgs'].apply(iter_thru_logs)\n",
    "\n",
    "victor_ashe_fall_2019_dict\n",
    "\n",
    "victor_ashe_fall_2019_df_out = pd.DataFrame({'cbgs_id': [x for x in victor_ashe_fall_2019_dict.keys()],\n",
    "                       'cbgs_count': [y for y in victor_ashe_fall_2019_dict.values()]})\n",
    "\n",
    "victor_ashe_fall_2019_df_out.to_excel(r\"C:\\Users\\18f\\Desktop\\Capstone Project\\Jupyter Notebook\\Capstone_Project_Data\\datasets\\cbgs_counts_by_season\\victor_ashe_fall_2019_cbgs.xlsx\")"
   ]
  },
  {
   "cell_type": "code",
   "execution_count": null,
   "id": "e7d756be",
   "metadata": {},
   "outputs": [],
   "source": [
    "victor_ashe_winter_2019_dict = {}\n",
    "\n",
    "def iter_thru_logs(log):\n",
    "    log = json.loads(log.replace(\"'\", '\"'))\n",
    "    for k, v in log.items():\n",
    "        victor_ashe_winter_2019_dict[k] = victor_ashe_winter_2019_dict.setdefault(k, 0) + v\n",
    "        \n",
    "victor_ashe_winter_2019['visitor_home_cbgs'].apply(iter_thru_logs)\n",
    "\n",
    "victor_ashe_winter_2019_dict\n",
    "\n",
    "victor_ashe_winter_2019_df_out = pd.DataFrame({'cbgs_id': [x for x in victor_ashe_winter_2019_dict.keys()],\n",
    "                       'cbgs_count': [y for y in victor_ashe_winter_2019_dict.values()]})\n",
    "\n",
    "victor_ashe_winter_2019_df_out.to_excel(r\"C:\\Users\\18f\\Desktop\\Capstone Project\\Jupyter Notebook\\Capstone_Project_Data\\datasets\\cbgs_counts_by_season\\victor_ashe_winter_2019_cbgs.xlsx\")"
   ]
  },
  {
   "cell_type": "code",
   "execution_count": null,
   "id": "66d9591b",
   "metadata": {},
   "outputs": [],
   "source": [
    "victor_ashe_spring_2020_dict = {}\n",
    "\n",
    "def iter_thru_logs(log):\n",
    "    log = json.loads(log.replace(\"'\", '\"'))\n",
    "    for k, v in log.items():\n",
    "        victor_ashe_spring_2020_dict[k] = victor_ashe_spring_2020_dict.setdefault(k, 0) + v\n",
    "        \n",
    "victor_ashe_spring_2020['visitor_home_cbgs'].apply(iter_thru_logs)\n",
    "\n",
    "victor_ashe_spring_2020_dict\n",
    "\n",
    "victor_ashe_spring_2020_df_out = pd.DataFrame({'cbgs_id': [x for x in victor_ashe_spring_2020_dict.keys()],\n",
    "                       'cbgs_count': [y for y in victor_ashe_spring_2020_dict.values()]})\n",
    "\n",
    "victor_ashe_spring_2020_df_out.to_excel(r\"C:\\Users\\18f\\Desktop\\Capstone Project\\Jupyter Notebook\\Capstone_Project_Data\\datasets\\cbgs_counts_by_season\\victor_ashe_spring_2020_cbgs.xlsx\")"
   ]
  },
  {
   "cell_type": "code",
   "execution_count": null,
   "id": "bc21c1ed",
   "metadata": {},
   "outputs": [],
   "source": [
    "victor_ashe_summer_2020_dict = {}\n",
    "\n",
    "def iter_thru_logs(log):\n",
    "    log = json.loads(log.replace(\"'\", '\"'))\n",
    "    for k, v in log.items():\n",
    "        victor_ashe_summer_2020_dict[k] = victor_ashe_summer_2020_dict.setdefault(k, 0) + v\n",
    "        \n",
    "victor_ashe_summer_2020['visitor_home_cbgs'].apply(iter_thru_logs)\n",
    "\n",
    "victor_ashe_summer_2020_dict\n",
    "\n",
    "victor_ashe_summer_2020_df_out = pd.DataFrame({'cbgs_id': [x for x in victor_ashe_summer_2020_dict.keys()],\n",
    "                       'cbgs_count': [y for y in victor_ashe_summer_2020_dict.values()]})\n",
    "\n",
    "victor_ashe_summer_2020_df_out.to_excel(r\"C:\\Users\\18f\\Desktop\\Capstone Project\\Jupyter Notebook\\Capstone_Project_Data\\datasets\\cbgs_counts_by_season\\victor_ashe_summer_2020_cbgs.xlsx\")"
   ]
  },
  {
   "cell_type": "code",
   "execution_count": null,
   "id": "53a4b735",
   "metadata": {},
   "outputs": [],
   "source": [
    "victor_ashe_fall_2020_dict = {}\n",
    "\n",
    "def iter_thru_logs(log):\n",
    "    log = json.loads(log.replace(\"'\", '\"'))\n",
    "    for k, v in log.items():\n",
    "        victor_ashe_fall_2020_dict[k] = victor_ashe_fall_2020_dict.setdefault(k, 0) + v\n",
    "        \n",
    "victor_ashe_fall_2020['visitor_home_cbgs'].apply(iter_thru_logs)\n",
    "\n",
    "victor_ashe_fall_2020_dict\n",
    "\n",
    "victor_ashe_fall_2020_df_out = pd.DataFrame({'cbgs_id': [x for x in victor_ashe_fall_2020_dict.keys()],\n",
    "                       'cbgs_count': [y for y in victor_ashe_fall_2020_dict.values()]})\n",
    "\n",
    "victor_ashe_fall_2020_df_out[\"cbgs_text\"] = victor_ashe_fall_2020_df_out[\"cbgs_id\"].astype(str)\n",
    "\n",
    "victor_ashe_fall_2020_df_out.to_excel(r\"C:\\Users\\18f\\Desktop\\Capstone Project\\Jupyter Notebook\\Capstone_Project_Data\\datasets\\cbgs_counts_by_season\\victor_ashe_fall_2020_cbgs.xlsx\")"
   ]
  },
  {
   "cell_type": "markdown",
   "id": "6354c85d",
   "metadata": {},
   "source": [
    "### Knox COVID-19 Counts"
   ]
  },
  {
   "cell_type": "code",
   "execution_count": null,
   "id": "dd47e761",
   "metadata": {},
   "outputs": [],
   "source": [
    "covid_counts = pd.read_excel(r\"C:\\Users\\18f\\Desktop\\Capstone Project\\Jupyter Notebook\\Capstone_Project_Data\\datasets\\COVID19 data\\Public-Dataset-County-New.xlsx\")\n",
    "\n",
    "names = [\"Anderson\", \"Blount\", \"Grainger\", \"Jefferson\", \"Knox\", \"Loudon\", \"Roane\", \"Sevier\", \"Union\"]\n",
    "knox_counties = covid_counts[covid_counts[\"COUNTY\"].isin(names)]\n",
    "\n",
    "knox_covid_by_date = knox_counties.groupby('DATE').sum()\n",
    "knox_covid_by_date.to_csv(r\"C:\\Users\\18f\\Desktop\\Capstone Project\\Jupyter Notebook\\Capstone_Project_Data\\datasets\\COVID19 data\\covid_knox.csv\")\n",
    "\n",
    "knox_covid_simple = pd.read_csv(r\"C:\\Users\\18f\\Desktop\\Capstone Project\\Jupyter Notebook\\Capstone_Project_Data\\datasets\\COVID19 data\\covid_knox_simple.csv\", parse_dates=['DATE'], dayfirst=False)\n",
    "knox_covid_simple.columns"
   ]
  },
  {
   "cell_type": "code",
   "execution_count": 1,
   "id": "92a252b8",
   "metadata": {},
   "outputs": [],
   "source": [
    "# Create COVID-19 Graph\n",
    "fig = px.line(knox_covid_simple, x=\"DATE\", \n",
    "              y=\"NEW_CASES\")\n",
    "\n",
    "\n",
    "fig.update_layout({\"title\": '<b>New COVID-19 Cases for Knoxville, Tennessee',\n",
    "                  \"title_x\": 0.5,\n",
    "                  \"xaxis\": {\"title\":\"Months\"},\n",
    "                  \"yaxis\": {\"title\":\"New COVID-19 Cases\"},\n",
    "                  \"showlegend\": True})\n",
    "\n",
    "fig.update_traces(line_color='#000000', line_width=1.5)\n",
    "\n",
    "# fig.update_layout(legend_title=\"Seasons\")\n",
    "# fig.update_yaxes(range = [0, 1100], title_text = \"Visitor Count\") \n",
    "fig.update_xaxes(title_text = \"\")\n",
    "fig.show()\n",
    "\n",
    "io.write_image(fig, r\"C:\\Users\\18f\\Desktop\\Capstone Project\\Jupyter Notebook\\Capstone_Project_Data\\images\\Knoxville_NewCOVID19Cases1_5.png\")"
   ]
  },
  {
   "cell_type": "markdown",
   "id": "3076ed49",
   "metadata": {},
   "source": [
    "### Process all the cbgs count dataframes"
   ]
  },
  {
   "cell_type": "code",
   "execution_count": null,
   "id": "9aca26f1",
   "metadata": {},
   "outputs": [],
   "source": [
    "lakeshore_winter_2018_df_out = pd.read_excel(r\"C:\\Users\\18f\\Desktop\\Capstone Project\\Jupyter Notebook\\Capstone_Project_Data\\datasets\\cbgs_counts_by_season\\lakeshore_winter_2018_cbgs.xlsx\")\n",
    "lakeshore_spring_2019_df_out = pd.read_excel(r\"C:\\Users\\18f\\Desktop\\Capstone Project\\Jupyter Notebook\\Capstone_Project_Data\\datasets\\cbgs_counts_by_season\\lakeshore_spring_2019_cbgs.xlsx\")\n",
    "lakeshore_summer_2019_df_out = pd.read_excel(r\"C:\\Users\\18f\\Desktop\\Capstone Project\\Jupyter Notebook\\Capstone_Project_Data\\datasets\\cbgs_counts_by_season\\lakeshore_summer_2019_cbgs.xlsx\")\n",
    "lakeshore_fall_2019_df_out = pd.read_excel(r\"C:\\Users\\18f\\Desktop\\Capstone Project\\Jupyter Notebook\\Capstone_Project_Data\\datasets\\cbgs_counts_by_season\\lakeshore_fall_2019_cbgs.xlsx\")\n",
    "lakeshore_winter_2019_df_out = pd.read_excel(r\"C:\\Users\\18f\\Desktop\\Capstone Project\\Jupyter Notebook\\Capstone_Project_Data\\datasets\\cbgs_counts_by_season\\lakeshore_winter_2019_cbgs.xlsx\")\n",
    "lakeshore_spring_2020_df_out = pd.read_excel(r\"C:\\Users\\18f\\Desktop\\Capstone Project\\Jupyter Notebook\\Capstone_Project_Data\\datasets\\cbgs_counts_by_season\\lakeshore_spring_2020_cbgs.xlsx\")\n",
    "lakeshore_summer_2020_df_out = pd.read_excel(r\"C:\\Users\\18f\\Desktop\\Capstone Project\\Jupyter Notebook\\Capstone_Project_Data\\datasets\\cbgs_counts_by_season\\lakeshore_summer_2020_cbgs.xlsx\")\n",
    "lakeshore_fall_2020_df_out = pd.read_excel(r\"C:\\Users\\18f\\Desktop\\Capstone Project\\Jupyter Notebook\\Capstone_Project_Data\\datasets\\cbgs_counts_by_season\\lakeshore_fall_2020_cbgs.xlsx\")\n",
    "\n",
    "victor_ashe_winter_2018_df_out = pd.read_excel(r\"C:\\Users\\18f\\Desktop\\Capstone Project\\Jupyter Notebook\\Capstone_Project_Data\\datasets\\cbgs_counts_by_season\\victor_ashe_winter_2018_cbgs.xlsx\")\n",
    "victor_ashe_spring_2019_df_out = pd.read_excel(r\"C:\\Users\\18f\\Desktop\\Capstone Project\\Jupyter Notebook\\Capstone_Project_Data\\datasets\\cbgs_counts_by_season\\victor_ashe_spring_2019_cbgs.xlsx\")\n",
    "victor_ashe_summer_2019_df_out = pd.read_excel(r\"C:\\Users\\18f\\Desktop\\Capstone Project\\Jupyter Notebook\\Capstone_Project_Data\\datasets\\cbgs_counts_by_season\\victor_ashe_summer_2019_cbgs.xlsx\")\n",
    "victor_ashe_fall_2019_df_out = pd.read_excel(r\"C:\\Users\\18f\\Desktop\\Capstone Project\\Jupyter Notebook\\Capstone_Project_Data\\datasets\\cbgs_counts_by_season\\victor_ashe_fall_2019_cbgs.xlsx\")\n",
    "victor_ashe_winter_2019_df_out = pd.read_excel(r\"C:\\Users\\18f\\Desktop\\Capstone Project\\Jupyter Notebook\\Capstone_Project_Data\\datasets\\cbgs_counts_by_season\\victor_ashe_winter_2019_cbgs.xlsx\")\n",
    "victor_ashe_spring_2020_df_out = pd.read_excel(r\"C:\\Users\\18f\\Desktop\\Capstone Project\\Jupyter Notebook\\Capstone_Project_Data\\datasets\\cbgs_counts_by_season\\victor_ashe_spring_2020_cbgs.xlsx\")\n",
    "victor_ashe_summer_2020_df_out = pd.read_excel(r\"C:\\Users\\18f\\Desktop\\Capstone Project\\Jupyter Notebook\\Capstone_Project_Data\\datasets\\cbgs_counts_by_season\\victor_ashe_summer_2020_cbgs.xlsx\")\n",
    "victor_ashe_fall_2020_df_out = pd.read_excel(r\"C:\\Users\\18f\\Desktop\\Capstone Project\\Jupyter Notebook\\Capstone_Project_Data\\datasets\\cbgs_counts_by_season\\victor_ashe_fall_2020_cbgs.xlsx\")"
   ]
  },
  {
   "cell_type": "code",
   "execution_count": null,
   "id": "1005fccc",
   "metadata": {},
   "outputs": [],
   "source": [
    "# directory = r\"Y:\\18f_Chantelle_Rittmaier\\capstone project\"\n",
    "\n",
    "# arcpy.CreateFileGDB_management(r\"Y:\\18f_Chantelle_Rittmaier\\capstone project\", \"capstone_gdb.gdb\")"
   ]
  },
  {
   "cell_type": "code",
   "execution_count": null,
   "id": "a98b3afe",
   "metadata": {},
   "outputs": [],
   "source": [
    "env.workspace = r\"Y:\\18f_Chantelle_Rittmaier\\capstone project\\capstone_gdb.gdb\"\n",
    "\n",
    "cbgs_projected = r\"Y:\\18f_Chantelle_Rittmaier\\capstone project\\capstone_gdb.gdb\\cbgs_projected.shp\" \n",
    "\n",
    "fcList = arcpy.ListFeatureClasses()\n",
    "\n",
    "for fc in fcList:\n",
    "    print(fc)"
   ]
  },
  {
   "cell_type": "code",
   "execution_count": null,
   "id": "7f53dbcd",
   "metadata": {},
   "outputs": [],
   "source": [
    "tables = arcpy.ListTables()\n",
    "\n",
    "for table in tables:\n",
    "    print(table)"
   ]
  },
  {
   "cell_type": "code",
   "execution_count": null,
   "id": "4579bfc6",
   "metadata": {},
   "outputs": [],
   "source": [
    "# copy the cbgs polygon shapefile\n",
    "arcpy.management.CopyFeatures(\"cbgs_projected\", r\"Y:\\18f_Chantelle_Rittmaier\\capstone project\\capstone_gdb.gdb\\ls_fall_2019_cbgs_copy\")\n",
    "arcpy.management.CopyFeatures(\"cbgs_projected\", r\"Y:\\18f_Chantelle_Rittmaier\\capstone project\\capstone_gdb.gdb\\ls_fall_2020_cbgs_copy\")\n",
    "arcpy.management.CopyFeatures(\"cbgs_projected\", r\"Y:\\18f_Chantelle_Rittmaier\\capstone project\\capstone_gdb.gdb\\ls_spring_2019_cbgs_copy\")\n",
    "arcpy.management.CopyFeatures(\"cbgs_projected\", r\"Y:\\18f_Chantelle_Rittmaier\\capstone project\\capstone_gdb.gdb\\ls_spring_2020_cbgs_copy\")\n",
    "arcpy.management.CopyFeatures(\"cbgs_projected\", r\"Y:\\18f_Chantelle_Rittmaier\\capstone project\\capstone_gdb.gdb\\ls_summer_2019_cbgs_copy\")\n",
    "arcpy.management.CopyFeatures(\"cbgs_projected\", r\"Y:\\18f_Chantelle_Rittmaier\\capstone project\\capstone_gdb.gdb\\ls_summer_2020_cbgs_copy\")\n",
    "arcpy.management.CopyFeatures(\"cbgs_projected\", r\"Y:\\18f_Chantelle_Rittmaier\\capstone project\\capstone_gdb.gdb\\ls_winter_2018_cbgs_copy\")\n",
    "arcpy.management.CopyFeatures(\"cbgs_projected\", r\"Y:\\18f_Chantelle_Rittmaier\\capstone project\\capstone_gdb.gdb\\ls_winter_2019_cbgs_copy\")\n",
    "\n",
    "arcpy.management.CopyFeatures(\"cbgs_projected\", r\"Y:\\18f_Chantelle_Rittmaier\\capstone project\\capstone_gdb.gdb\\va_fall_2019_cbgs_copy\")\n",
    "arcpy.management.CopyFeatures(\"cbgs_projected\", r\"Y:\\18f_Chantelle_Rittmaier\\capstone project\\capstone_gdb.gdb\\va_fall_2020_cbgs_copy\")\n",
    "arcpy.management.CopyFeatures(\"cbgs_projected\", r\"Y:\\18f_Chantelle_Rittmaier\\capstone project\\capstone_gdb.gdb\\va_spring_2019_cbgs_copy\")\n",
    "arcpy.management.CopyFeatures(\"cbgs_projected\", r\"Y:\\18f_Chantelle_Rittmaier\\capstone project\\capstone_gdb.gdb\\va_spring_2020_cbgs_copy\")\n",
    "arcpy.management.CopyFeatures(\"cbgs_projected\", r\"Y:\\18f_Chantelle_Rittmaier\\capstone project\\capstone_gdb.gdb\\va_summer_2019_cbgs_copy\")\n",
    "arcpy.management.CopyFeatures(\"cbgs_projected\", r\"Y:\\18f_Chantelle_Rittmaier\\capstone project\\capstone_gdb.gdb\\va_summer_2020_cbgs_copy\")\n",
    "arcpy.management.CopyFeatures(\"cbgs_projected\", r\"Y:\\18f_Chantelle_Rittmaier\\capstone project\\capstone_gdb.gdb\\va_winter_2018_cbgs_copy\")\n",
    "arcpy.management.CopyFeatures(\"cbgs_projected\", r\"Y:\\18f_Chantelle_Rittmaier\\capstone project\\capstone_gdb.gdb\\va_winter_2019_cbgs_copy\")\n"
   ]
  },
  {
   "cell_type": "code",
   "execution_count": null,
   "id": "c1f61f22",
   "metadata": {},
   "outputs": [],
   "source": [
    "# copy the cbgs point layer for each season\n",
    "arcpy.management.CopyFeatures(\"cbgs_points\", r\"Y:\\18f_Chantelle_Rittmaier\\capstone project\\capstone_gdb.gdb\\ls_fall_2019_cbgspoints_copy\")\n",
    "arcpy.management.CopyFeatures(\"cbgs_points\", r\"Y:\\18f_Chantelle_Rittmaier\\capstone project\\capstone_gdb.gdb\\ls_fall_2020_cbgspoints_copy\")\n",
    "arcpy.management.CopyFeatures(\"cbgs_points\", r\"Y:\\18f_Chantelle_Rittmaier\\capstone project\\capstone_gdb.gdb\\ls_spring_2019_cbgspoints_copy\")\n",
    "arcpy.management.CopyFeatures(\"cbgs_points\", r\"Y:\\18f_Chantelle_Rittmaier\\capstone project\\capstone_gdb.gdb\\ls_spring_2020_cbgspoints_copy\")\n",
    "arcpy.management.CopyFeatures(\"cbgs_points\", r\"Y:\\18f_Chantelle_Rittmaier\\capstone project\\capstone_gdb.gdb\\ls_summer_2019_cbgspoints_copy\")\n",
    "arcpy.management.CopyFeatures(\"cbgs_points\", r\"Y:\\18f_Chantelle_Rittmaier\\capstone project\\capstone_gdb.gdb\\ls_summer_2020_cbgspoints_copy\")\n",
    "arcpy.management.CopyFeatures(\"cbgs_points\", r\"Y:\\18f_Chantelle_Rittmaier\\capstone project\\capstone_gdb.gdb\\ls_winter_2018_cbgspoints_copy\")\n",
    "arcpy.management.CopyFeatures(\"cbgs_points\", r\"Y:\\18f_Chantelle_Rittmaier\\capstone project\\capstone_gdb.gdb\\ls_winter_2019_cbgspoints_copy\")\n",
    "\n",
    "arcpy.management.CopyFeatures(\"cbgs_points\", r\"Y:\\18f_Chantelle_Rittmaier\\capstone project\\capstone_gdb.gdb\\va_fall_2019_cbgspoints_copy\")\n",
    "arcpy.management.CopyFeatures(\"cbgs_points\", r\"Y:\\18f_Chantelle_Rittmaier\\capstone project\\capstone_gdb.gdb\\va_fall_2020_cbgspoints_copy\")\n",
    "arcpy.management.CopyFeatures(\"cbgs_points\", r\"Y:\\18f_Chantelle_Rittmaier\\capstone project\\capstone_gdb.gdb\\va_spring_2019_cbgspoints_copy\")\n",
    "arcpy.management.CopyFeatures(\"cbgs_points\", r\"Y:\\18f_Chantelle_Rittmaier\\capstone project\\capstone_gdb.gdb\\va_spring_2020_cbgspoints_copy\")\n",
    "arcpy.management.CopyFeatures(\"cbgs_points\", r\"Y:\\18f_Chantelle_Rittmaier\\capstone project\\capstone_gdb.gdb\\va_summer_2019_cbgspoints_copy\")\n",
    "arcpy.management.CopyFeatures(\"cbgs_points\", r\"Y:\\18f_Chantelle_Rittmaier\\capstone project\\capstone_gdb.gdb\\va_summer_2020_cbgspoints_copy\")\n",
    "arcpy.management.CopyFeatures(\"cbgs_points\", r\"Y:\\18f_Chantelle_Rittmaier\\capstone project\\capstone_gdb.gdb\\va_winter_2018_cbgspoints_copy\")\n",
    "arcpy.management.CopyFeatures(\"cbgs_points\", r\"Y:\\18f_Chantelle_Rittmaier\\capstone project\\capstone_gdb.gdb\\va_winter_2019_cbgspoints_copy\")"
   ]
  },
  {
   "cell_type": "code",
   "execution_count": null,
   "id": "7c557750",
   "metadata": {},
   "outputs": [],
   "source": [
    "# join table to the point layer based on the GEOID\n",
    "join_table = arcpy.management.AddJoin(\"ls_fall_2019_cbgspoints_copy\", \"GEOID\", \"lakeshore_fall_2019\", \"cbgs_id\")\n",
    "arcpy.management.CopyFeatures(join_table, r\"Y:\\18f_Chantelle_Rittmaier\\capstone project\\capstone_gdb.gdb\\ls_fall_2019_cbgspoints_joincopy\")\n",
    "\n",
    "join_table = arcpy.management.AddJoin(\"ls_fall_2020_cbgspoints_copy\", \"GEOID\", \"lakeshore_fall_2020\", \"cbgs_id\")\n",
    "arcpy.management.CopyFeatures(join_table, r\"Y:\\18f_Chantelle_Rittmaier\\capstone project\\capstone_gdb.gdb\\ls_fall_2020_cbgspoints_joincopy\")\n",
    "\n",
    "join_table = arcpy.management.AddJoin(\"ls_spring_2019_cbgspoints_copy\", \"GEOID\", \"lakeshore_spring_2019\", \"cbgs_id\")\n",
    "arcpy.management.CopyFeatures(join_table, r\"Y:\\18f_Chantelle_Rittmaier\\capstone project\\capstone_gdb.gdb\\ls_spring_2019_cbgspoints_joincopy\")\n",
    "\n",
    "join_table = arcpy.management.AddJoin(\"ls_spring_2020_cbgspoints_copy\", \"GEOID\", \"lakeshore_spring_2020\", \"cbgs_id\")\n",
    "arcpy.management.CopyFeatures(join_table, r\"Y:\\18f_Chantelle_Rittmaier\\capstone project\\capstone_gdb.gdb\\ls_spring_2020_cbgspoints_joincopy\")\n",
    "\n",
    "join_table = arcpy.management.AddJoin(\"ls_summer_2019_cbgspoints_copy\", \"GEOID\", \"lakeshore_summer_2019\", \"cbgs_id\")\n",
    "arcpy.management.CopyFeatures(join_table, r\"Y:\\18f_Chantelle_Rittmaier\\capstone project\\capstone_gdb.gdb\\ls_summer_2019_cbgspoints_joincopy\")\n",
    "\n",
    "join_table = arcpy.management.AddJoin(\"ls_summer_2020_cbgspoints_copy\", \"GEOID\", \"lakeshore_summer_2020\", \"cbgs_id\")\n",
    "arcpy.management.CopyFeatures(join_table, r\"Y:\\18f_Chantelle_Rittmaier\\capstone project\\capstone_gdb.gdb\\ls_summer_2020_cbgspoints_joincopy\")\n",
    "\n",
    "join_table = arcpy.management.AddJoin(\"ls_winter_2018_cbgspoints_copy\", \"GEOID\", \"lakeshore_winter_2018\", \"cbgs_id\")\n",
    "arcpy.management.CopyFeatures(join_table, r\"Y:\\18f_Chantelle_Rittmaier\\capstone project\\capstone_gdb.gdb\\ls_winter_2018_cbgspoints_joincopy\")\n",
    "\n",
    "join_table = arcpy.management.AddJoin(\"ls_winter_2019_cbgspoints_copy\", \"GEOID\", \"lakeshore_winter_2019\", \"cbgs_id\")\n",
    "arcpy.management.CopyFeatures(join_table, r\"Y:\\18f_Chantelle_Rittmaier\\capstone project\\capstone_gdb.gdb\\ls_winter_2019_cbgspoints_joincopy\")\n",
    "\n",
    "\n",
    "\n",
    "join_table = arcpy.management.AddJoin(\"va_fall_2019_cbgspoints_copy\", \"GEOID\", \"victor_ashe_fall_2019\", \"cbgs_id\")\n",
    "arcpy.management.CopyFeatures(join_table, r\"Y:\\18f_Chantelle_Rittmaier\\capstone project\\capstone_gdb.gdb\\va_fall_2019_cbgspoints_joincopy\")\n",
    "\n",
    "join_table = arcpy.management.AddJoin(\"va_fall_2020_cbgspoints_copy\", \"GEOID\", \"victor_ashe_fall_2020\", \"cbgs_id\")\n",
    "arcpy.management.CopyFeatures(join_table, r\"Y:\\18f_Chantelle_Rittmaier\\capstone project\\capstone_gdb.gdb\\va_fall_2020_cbgspoints_joincopy\")\n",
    "\n",
    "join_table = arcpy.management.AddJoin(\"va_spring_2019_cbgspoints_copy\", \"GEOID\", \"victor_ashe_spring_2019\", \"cbgs_id\")\n",
    "arcpy.management.CopyFeatures(join_table, r\"Y:\\18f_Chantelle_Rittmaier\\capstone project\\capstone_gdb.gdb\\va_spring_2019_cbgspoints_joincopy\")\n",
    "\n",
    "join_table = arcpy.management.AddJoin(\"va_spring_2020_cbgspoints_copy\", \"GEOID\", \"victor_ashe_spring_2020\", \"cbgs_id\")\n",
    "arcpy.management.CopyFeatures(join_table, r\"Y:\\18f_Chantelle_Rittmaier\\capstone project\\capstone_gdb.gdb\\va_spring_2020_cbgspoints_joincopy\")\n",
    "\n",
    "join_table = arcpy.management.AddJoin(\"va_summer_2019_cbgspoints_copy\", \"GEOID\", \"victor_ashe_summer_2019\", \"cbgs_id\")\n",
    "arcpy.management.CopyFeatures(join_table, r\"Y:\\18f_Chantelle_Rittmaier\\capstone project\\capstone_gdb.gdb\\va_summer_2019_cbgspoints_joincopy\")\n",
    "\n",
    "join_table = arcpy.management.AddJoin(\"va_summer_2020_cbgspoints_copy\", \"GEOID\", \"victor_ashe_summer_2020\", \"cbgs_id\")\n",
    "arcpy.management.CopyFeatures(join_table, r\"Y:\\18f_Chantelle_Rittmaier\\capstone project\\capstone_gdb.gdb\\va_summer_2020_cbgspoints_joincopy\")\n",
    "\n",
    "join_table = arcpy.management.AddJoin(\"va_winter_2018_cbgspoints_copy\", \"GEOID\", \"victor_ashe_winter_2018\", \"cbgs_id\")\n",
    "arcpy.management.CopyFeatures(join_table, r\"Y:\\18f_Chantelle_Rittmaier\\capstone project\\capstone_gdb.gdb\\va_winter_2018_cbgspoints_joincopy\")\n",
    "\n",
    "join_table = arcpy.management.AddJoin(\"va_winter_2019_cbgspoints_copy\", \"GEOID\", \"victor_ashe_winter_2019\", \"cbgs_id\")\n",
    "arcpy.management.CopyFeatures(join_table, r\"Y:\\18f_Chantelle_Rittmaier\\capstone project\\capstone_gdb.gdb\\va_winter_2019_cbgspoints_joincopy\")"
   ]
  },
  {
   "cell_type": "code",
   "execution_count": null,
   "id": "ea2d751e",
   "metadata": {},
   "outputs": [],
   "source": [
    "# create a new field called \"norm_count\"\n",
    "arcpy.AddField_management(\"ls_fall_2019_cbgspoints_joincopy\", \"norm_ct\", \"FLOAT\")\n",
    "arcpy.AddField_management(\"ls_fall_2020_cbgspoints_joincopy\", \"norm_ct\", \"FLOAT\")\n",
    "arcpy.AddField_management(\"ls_spring_2019_cbgspoints_joincopy\", \"norm_ct\", \"FLOAT\")\n",
    "arcpy.AddField_management(\"ls_spring_2020_cbgspoints_joincopy\", \"norm_ct\", \"FLOAT\")\n",
    "arcpy.AddField_management(\"ls_summer_2019_cbgspoints_joincopy\", \"norm_ct\", \"FLOAT\")\n",
    "arcpy.AddField_management(\"ls_summer_2020_cbgspoints_joincopy\", \"norm_ct\", \"FLOAT\")\n",
    "arcpy.AddField_management(\"ls_winter_2018_cbgspoints_joincopy\", \"norm_ct\", \"FLOAT\")\n",
    "arcpy.AddField_management(\"ls_winter_2019_cbgspoints_joincopy\", \"norm_ct\", \"FLOAT\")\n",
    "\n",
    "arcpy.AddField_management(\"va_fall_2019_cbgspoints_joincopy\", \"norm_ct\", \"FLOAT\")\n",
    "arcpy.AddField_management(\"va_fall_2020_cbgspoints_joincopy\", \"norm_ct\", \"FLOAT\")\n",
    "arcpy.AddField_management(\"va_spring_2019_cbgspoints_joincopy\", \"norm_ct\", \"FLOAT\")\n",
    "arcpy.AddField_management(\"va_spring_2020_cbgspoints_joincopy\", \"norm_ct\", \"FLOAT\")\n",
    "arcpy.AddField_management(\"va_summer_2019_cbgspoints_joincopy\", \"norm_ct\", \"FLOAT\")\n",
    "arcpy.AddField_management(\"va_summer_2020_cbgspoints_joincopy\", \"norm_ct\", \"FLOAT\")\n",
    "arcpy.AddField_management(\"va_winter_2018_cbgspoints_joincopy\", \"norm_ct\", \"FLOAT\")\n",
    "arcpy.AddField_management(\"va_winter_2019_cbgspoints_joincopy\", \"norm_ct\", \"FLOAT\")"
   ]
  },
  {
   "cell_type": "code",
   "execution_count": null,
   "id": "3679feca",
   "metadata": {},
   "outputs": [],
   "source": [
    "with arcpy.da.UpdateCursor(\"ls_fall_2019_cbgspoints_joincopy\", \"lakeshore_fall_2019_cbgs_count\") as cursor:\n",
    "    for row in cursor:\n",
    "        if row[0] is None:\n",
    "            cursor.deleteRow()\n",
    "            \n",
    "with arcpy.da.UpdateCursor(\"ls_fall_2020_cbgspoints_joincopy\", \"lakeshore_fall_2020_cbgs_count\") as cursor:\n",
    "    for row in cursor:\n",
    "        if row[0] is None:\n",
    "            cursor.deleteRow()\n",
    "\n",
    "with arcpy.da.UpdateCursor(\"ls_spring_2019_cbgspoints_joincopy\", \"lakeshore_spring_2019_cbgs_count\") as cursor:\n",
    "    for row in cursor:\n",
    "        if row[0] is None:\n",
    "            cursor.deleteRow()\n",
    "\n",
    "with arcpy.da.UpdateCursor(\"ls_spring_2020_cbgspoints_joincopy\", \"lakeshore_spring_2020_cbgs_count\") as cursor:\n",
    "    for row in cursor:\n",
    "        if row[0] is None:\n",
    "            cursor.deleteRow()\n",
    "            \n",
    "with arcpy.da.UpdateCursor(\"ls_summer_2019_cbgspoints_joincopy\", \"lakeshore_summer_2019_cbgs_count\") as cursor:\n",
    "    for row in cursor:\n",
    "        if row[0] is None:\n",
    "            cursor.deleteRow()\n",
    "            \n",
    "with arcpy.da.UpdateCursor(\"ls_summer_2020_cbgspoints_joincopy\", \"lakeshore_summer_2020_cbgs_count\") as cursor:\n",
    "    for row in cursor:\n",
    "        if row[0] is None:\n",
    "            cursor.deleteRow()\n",
    "            \n",
    "with arcpy.da.UpdateCursor(\"ls_winter_2018_cbgspoints_joincopy\", \"lakeshore_winter_2018_cbgs_count\") as cursor:\n",
    "    for row in cursor:\n",
    "        if row[0] is None:\n",
    "            cursor.deleteRow()\n",
    "        \n",
    "with arcpy.da.UpdateCursor(\"ls_winter_2019_cbgspoints_joincopy\", \"lakeshore_winter_2019_cbgs_count\") as cursor:\n",
    "    for row in cursor:\n",
    "        if row[0] is None:\n",
    "            cursor.deleteRow()\n",
    "            \n",
    "            \n",
    "            \n",
    "            \n",
    "            \n",
    "            \n",
    "with arcpy.da.UpdateCursor(\"va_fall_2019_cbgspoints_joincopy\", \"victor_ashe_fall_2019_cbgs_count\") as cursor:\n",
    "    for row in cursor:\n",
    "        if row[0] is None:\n",
    "            cursor.deleteRow()\n",
    "            \n",
    "with arcpy.da.UpdateCursor(\"va_fall_2020_cbgspoints_joincopy\", \"victor_ashe_fall_2020_cbgs_count\") as cursor:\n",
    "    for row in cursor:\n",
    "        if row[0] is None:\n",
    "            cursor.deleteRow()\n",
    "\n",
    "with arcpy.da.UpdateCursor(\"va_spring_2019_cbgspoints_joincopy\", \"victor_ashe_spring_2019_cbgs_count\") as cursor:\n",
    "    for row in cursor:\n",
    "        if row[0] is None:\n",
    "            cursor.deleteRow()\n",
    "\n",
    "with arcpy.da.UpdateCursor(\"va_spring_2020_cbgspoints_joincopy\", \"victor_ashe_spring_2020_cbgs_count\") as cursor:\n",
    "    for row in cursor:\n",
    "        if row[0] is None:\n",
    "            cursor.deleteRow()\n",
    "            \n",
    "with arcpy.da.UpdateCursor(\"va_summer_2019_cbgspoints_joincopy\", \"victor_ashe_summer_2019_cbgs_count\") as cursor:\n",
    "    for row in cursor:\n",
    "        if row[0] is None:\n",
    "            cursor.deleteRow()\n",
    "            \n",
    "with arcpy.da.UpdateCursor(\"va_summer_2020_cbgspoints_joincopy\", \"victor_ashe_summer_2020_cbgs_count\") as cursor:\n",
    "    for row in cursor:\n",
    "        if row[0] is None:\n",
    "            cursor.deleteRow()\n",
    "            \n",
    "with arcpy.da.UpdateCursor(\"va_winter_2018_cbgspoints_joincopy\", \"victor_ashe_winter_2018_cbgs_count\") as cursor:\n",
    "    for row in cursor:\n",
    "        if row[0] is None:\n",
    "            cursor.deleteRow()\n",
    "        \n",
    "with arcpy.da.UpdateCursor(\"va_winter_2019_cbgspoints_joincopy\", \"victor_ashe_winter_2019_cbgs_count\") as cursor:\n",
    "    for row in cursor:\n",
    "        if row[0] is None:\n",
    "            cursor.deleteRow()"
   ]
  },
  {
   "cell_type": "code",
   "execution_count": null,
   "id": "04a81257",
   "metadata": {},
   "outputs": [],
   "source": [
    "# use the field calculator to calculate the normalized count by population (P0010001)\n",
    "arcpy.CalculateField_management(\"ls_fall_2019_cbgspoints_joincopy\", \"norm_ct\", '!lakeshore_fall_2019_cbgs_count! / !ls_fall_2019_cbgspoints_copy_P0010001!', \"PYTHON\")\n",
    "arcpy.CalculateField_management(\"ls_fall_2020_cbgspoints_joincopy\", \"norm_ct\", '!lakeshore_fall_2020_cbgs_count! / !ls_fall_2020_cbgspoints_copy_P0010001!', \"PYTHON\")\n",
    "arcpy.CalculateField_management(\"ls_spring_2019_cbgspoints_joincopy\", \"norm_ct\", '!lakeshore_spring_2019_cbgs_count! / !ls_spring_2019_cbgspoints_copy_P0010001!', \"PYTHON\")\n",
    "arcpy.CalculateField_management(\"ls_spring_2020_cbgspoints_joincopy\", \"norm_ct\", '!lakeshore_spring_2020_cbgs_count! / !ls_spring_2020_cbgspoints_copy_P0010001!', \"PYTHON\")\n",
    "arcpy.CalculateField_management(\"ls_summer_2019_cbgspoints_joincopy\", \"norm_ct\", '!lakeshore_summer_2019_cbgs_count! / !ls_summer_2019_cbgspoints_copy_P0010001!', \"PYTHON\")\n",
    "arcpy.CalculateField_management(\"ls_summer_2020_cbgspoints_joincopy\", \"norm_ct\", '!lakeshore_summer_2020_cbgs_count! / !ls_summer_2020_cbgspoints_copy_P0010001!', \"PYTHON\")\n",
    "arcpy.CalculateField_management(\"ls_winter_2018_cbgspoints_joincopy\", \"norm_ct\", '!lakeshore_winter_2018_cbgs_count! / !ls_winter_2018_cbgspoints_copy_P0010001!', \"PYTHON\")\n",
    "arcpy.CalculateField_management(\"ls_winter_2019_cbgspoints_joincopy\", \"norm_ct\", '!lakeshore_winter_2019_cbgs_count! / !ls_winter_2019_cbgspoints_copy_P0010001!', \"PYTHON\")\n",
    "\n",
    "arcpy.CalculateField_management(\"va_fall_2019_cbgspoints_joincopy\", \"norm_ct\", '!victor_ashe_fall_2019_cbgs_count! / !va_fall_2019_cbgspoints_copy_P0010001!', \"PYTHON\")\n",
    "arcpy.CalculateField_management(\"va_fall_2020_cbgspoints_joincopy\", \"norm_ct\", '!victor_ashe_fall_2020_cbgs_count! / !va_fall_2020_cbgspoints_copy_P0010001!', \"PYTHON\")\n",
    "arcpy.CalculateField_management(\"va_spring_2019_cbgspoints_joincopy\", \"norm_ct\", '!victor_ashe_spring_2019_cbgs_count! / !va_spring_2019_cbgspoints_copy_P0010001!', \"PYTHON\")\n",
    "arcpy.CalculateField_management(\"va_spring_2020_cbgspoints_joincopy\", \"norm_ct\", '!victor_ashe_spring_2020_cbgs_count! / !va_spring_2020_cbgspoints_copy_P0010001!', \"PYTHON\")\n",
    "arcpy.CalculateField_management(\"va_summer_2019_cbgspoints_joincopy\", \"norm_ct\", '!victor_ashe_summer_2019_cbgs_count! / !va_summer_2019_cbgspoints_copy_P0010001!', \"PYTHON\")\n",
    "arcpy.CalculateField_management(\"va_summer_2020_cbgspoints_joincopy\", \"norm_ct\", '!victor_ashe_summer_2020_cbgs_count! / !va_summer_2020_cbgspoints_copy_P0010001!', \"PYTHON\")\n",
    "arcpy.CalculateField_management(\"va_winter_2018_cbgspoints_joincopy\", \"norm_ct\", '!victor_ashe_winter_2018_cbgs_count! / !va_winter_2018_cbgspoints_copy_P0010001!', \"PYTHON\")\n",
    "arcpy.CalculateField_management(\"va_winter_2019_cbgspoints_joincopy\", \"norm_ct\", '!victor_ashe_winter_2019_cbgs_count! / !va_winter_2019_cbgspoints_copy_P0010001!', \"PYTHON\")"
   ]
  },
  {
   "cell_type": "code",
   "execution_count": null,
   "id": "b27f9377",
   "metadata": {},
   "outputs": [],
   "source": [
    "# calculate the \"near distance\" from the point layer to the park point in meters\n",
    "arcpy.analysis.Near(\"ls_fall_2019_cbgspoints_joincopy\", \"lakeshore_park_centroid\")\n",
    "arcpy.analysis.Near(\"ls_fall_2020_cbgspoints_joincopy\", \"lakeshore_park_centroid\")\n",
    "arcpy.analysis.Near(\"ls_spring_2019_cbgspoints_joincopy\", \"lakeshore_park_centroid\")\n",
    "arcpy.analysis.Near(\"ls_spring_2020_cbgspoints_joincopy\", \"lakeshore_park_centroid\")\n",
    "arcpy.analysis.Near(\"ls_summer_2019_cbgspoints_joincopy\", \"lakeshore_park_centroid\")\n",
    "arcpy.analysis.Near(\"ls_summer_2020_cbgspoints_joincopy\", \"lakeshore_park_centroid\")\n",
    "arcpy.analysis.Near(\"ls_winter_2018_cbgspoints_joincopy\", \"lakeshore_park_centroid\")\n",
    "arcpy.analysis.Near(\"ls_winter_2019_cbgspoints_joincopy\", \"lakeshore_park_centroid\")\n",
    "\n",
    "arcpy.analysis.Near(\"va_fall_2019_cbgspoints_joincopy\", \"lakeshore_park_centroid\")\n",
    "arcpy.analysis.Near(\"va_fall_2020_cbgspoints_joincopy\", \"lakeshore_park_centroid\")\n",
    "arcpy.analysis.Near(\"va_spring_2019_cbgspoints_joincopy\", \"lakeshore_park_centroid\")\n",
    "arcpy.analysis.Near(\"va_spring_2020_cbgspoints_joincopy\", \"lakeshore_park_centroid\")\n",
    "arcpy.analysis.Near(\"va_summer_2019_cbgspoints_joincopy\", \"lakeshore_park_centroid\")\n",
    "arcpy.analysis.Near(\"va_summer_2020_cbgspoints_joincopy\", \"lakeshore_park_centroid\")\n",
    "arcpy.analysis.Near(\"va_winter_2018_cbgspoints_joincopy\", \"lakeshore_park_centroid\")\n",
    "arcpy.analysis.Near(\"va_winter_2019_cbgspoints_joincopy\", \"lakeshore_park_centroid\")"
   ]
  },
  {
   "cell_type": "code",
   "execution_count": null,
   "id": "417e5343",
   "metadata": {},
   "outputs": [],
   "source": [
    "# join the point layer to the polygon shapefile based on location\n",
    "arcpy.SpatialJoin_analysis(\"ls_fall_2019_cbgs_copy\", \"ls_fall_2019_cbgspoints_joincopy\", r\"Y:\\18f_Chantelle_Rittmaier\\capstone project\\capstone_gdb.gdb\\ls_fall_2019_spatialjoin\")\n",
    "arcpy.SpatialJoin_analysis(\"ls_fall_2020_cbgs_copy\", \"ls_fall_2020_cbgspoints_joincopy\", r\"Y:\\18f_Chantelle_Rittmaier\\capstone project\\capstone_gdb.gdb\\ls_fall_2020_spatialjoin\")\n",
    "arcpy.SpatialJoin_analysis(\"ls_spring_2019_cbgs_copy\", \"ls_spring_2019_cbgspoints_joincopy\", r\"Y:\\18f_Chantelle_Rittmaier\\capstone project\\capstone_gdb.gdb\\ls_spring_2019_spatialjoin\")\n",
    "arcpy.SpatialJoin_analysis(\"ls_spring_2020_cbgs_copy\", \"ls_spring_2020_cbgspoints_joincopy\", r\"Y:\\18f_Chantelle_Rittmaier\\capstone project\\capstone_gdb.gdb\\ls_spring_2020_spatialjoin\")\n",
    "arcpy.SpatialJoin_analysis(\"ls_summer_2019_cbgs_copy\", \"ls_summer_2019_cbgspoints_joincopy\", r\"Y:\\18f_Chantelle_Rittmaier\\capstone project\\capstone_gdb.gdb\\ls_summer_2019_spatialjoin\")\n",
    "arcpy.SpatialJoin_analysis(\"ls_summer_2020_cbgs_copy\", \"ls_summer_2020_cbgspoints_joincopy\", r\"Y:\\18f_Chantelle_Rittmaier\\capstone project\\capstone_gdb.gdb\\ls_summer_2020_spatialjoin\")\n",
    "arcpy.SpatialJoin_analysis(\"ls_winter_2018_cbgs_copy\", \"ls_winter_2018_cbgspoints_joincopy\", r\"Y:\\18f_Chantelle_Rittmaier\\capstone project\\capstone_gdb.gdb\\ls_winter_2018_spatialjoin\")\n",
    "arcpy.SpatialJoin_analysis(\"ls_winter_2019_cbgs_copy\", \"ls_winter_2019_cbgspoints_joincopy\", r\"Y:\\18f_Chantelle_Rittmaier\\capstone project\\capstone_gdb.gdb\\ls_winter_2019_spatialjoin\")\n",
    "\n",
    "arcpy.SpatialJoin_analysis(\"va_fall_2019_cbgs_copy\", \"va_fall_2019_cbgspoints_joincopy\", r\"Y:\\18f_Chantelle_Rittmaier\\capstone project\\capstone_gdb.gdb\\va_fall_2019_spatialjoin\")\n",
    "arcpy.SpatialJoin_analysis(\"va_fall_2020_cbgs_copy\", \"va_fall_2020_cbgspoints_joincopy\", r\"Y:\\18f_Chantelle_Rittmaier\\capstone project\\capstone_gdb.gdb\\va_fall_2020_spatialjoin\")\n",
    "arcpy.SpatialJoin_analysis(\"va_spring_2019_cbgs_copy\", \"va_spring_2019_cbgspoints_joincopy\", r\"Y:\\18f_Chantelle_Rittmaier\\capstone project\\capstone_gdb.gdb\\va_spring_2019_spatialjoin\")\n",
    "arcpy.SpatialJoin_analysis(\"va_spring_2020_cbgs_copy\", \"va_spring_2020_cbgspoints_joincopy\", r\"Y:\\18f_Chantelle_Rittmaier\\capstone project\\capstone_gdb.gdb\\va_spring_2020_spatialjoin\")\n",
    "arcpy.SpatialJoin_analysis(\"va_summer_2019_cbgs_copy\", \"va_summer_2019_cbgspoints_joincopy\", r\"Y:\\18f_Chantelle_Rittmaier\\capstone project\\capstone_gdb.gdb\\va_summer_2019_spatialjoin\")\n",
    "arcpy.SpatialJoin_analysis(\"va_summer_2020_cbgs_copy\", \"va_summer_2020_cbgspoints_joincopy\", r\"Y:\\18f_Chantelle_Rittmaier\\capstone project\\capstone_gdb.gdb\\va_summer_2020_spatialjoin\")\n",
    "arcpy.SpatialJoin_analysis(\"va_winter_2018_cbgs_copy\", \"va_winter_2018_cbgspoints_joincopy\", r\"Y:\\18f_Chantelle_Rittmaier\\capstone project\\capstone_gdb.gdb\\va_winter_2018_spatialjoin\")\n",
    "arcpy.SpatialJoin_analysis(\"va_winter_2019_cbgs_copy\", \"va_winter_2019_cbgspoints_joincopy\", r\"Y:\\18f_Chantelle_Rittmaier\\capstone project\\capstone_gdb.gdb\\va_winter_2019_spatialjoin\")"
   ]
  },
  {
   "cell_type": "code",
   "execution_count": null,
   "id": "4f19787c",
   "metadata": {},
   "outputs": [],
   "source": [
    "# delete any of the census block group tracts that do not have a cbgs count for the number of visitors\n",
    "with arcpy.da.UpdateCursor(\"ls_fall_2019_spatialjoin\", \"lakeshore_fall_2019_cbgs_count\") as cursor:\n",
    "    for row in cursor:\n",
    "        if row[0] is None:\n",
    "            cursor.deleteRow()\n",
    "            \n",
    "with arcpy.da.UpdateCursor(\"ls_fall_2020_spatialjoin\", \"lakeshore_fall_2020_cbgs_count\") as cursor:\n",
    "    for row in cursor:\n",
    "        if row[0] is None:\n",
    "            cursor.deleteRow()\n",
    "\n",
    "with arcpy.da.UpdateCursor(\"ls_spring_2019_spatialjoin\", \"lakeshore_spring_2019_cbgs_count\") as cursor:\n",
    "    for row in cursor:\n",
    "        if row[0] is None:\n",
    "            cursor.deleteRow()\n",
    "\n",
    "with arcpy.da.UpdateCursor(\"ls_spring_2020_spatialjoin\", \"lakeshore_spring_2020_cbgs_count\") as cursor:\n",
    "    for row in cursor:\n",
    "        if row[0] is None:\n",
    "            cursor.deleteRow()\n",
    "            \n",
    "with arcpy.da.UpdateCursor(\"ls_summer_2019_spatialjoin\", \"lakeshore_summer_2019_cbgs_count\") as cursor:\n",
    "    for row in cursor:\n",
    "        if row[0] is None:\n",
    "            cursor.deleteRow()\n",
    "            \n",
    "with arcpy.da.UpdateCursor(\"ls_summer_2020_spatialjoin\", \"lakeshore_summer_2020_cbgs_count\") as cursor:\n",
    "    for row in cursor:\n",
    "        if row[0] is None:\n",
    "            cursor.deleteRow()\n",
    "            \n",
    "with arcpy.da.UpdateCursor(\"ls_winter_2018_spatialjoin\", \"lakeshore_winter_2018_cbgs_count\") as cursor:\n",
    "    for row in cursor:\n",
    "        if row[0] is None:\n",
    "            cursor.deleteRow()\n",
    "        \n",
    "with arcpy.da.UpdateCursor(\"ls_winter_2019_spatialjoin\", \"lakeshore_winter_2019_cbgs_count\") as cursor:\n",
    "    for row in cursor:\n",
    "        if row[0] is None:\n",
    "            cursor.deleteRow()\n",
    "            \n",
    "            \n",
    "            \n",
    "            \n",
    "            \n",
    "            \n",
    "with arcpy.da.UpdateCursor(\"va_fall_2019_spatialjoin\", \"victor_ashe_fall_2019_cbgs_count\") as cursor:\n",
    "    for row in cursor:\n",
    "        if row[0] is None:\n",
    "            cursor.deleteRow()\n",
    "            \n",
    "with arcpy.da.UpdateCursor(\"va_fall_2020_spatialjoin\", \"victor_ashe_fall_2020_cbgs_count\") as cursor:\n",
    "    for row in cursor:\n",
    "        if row[0] is None:\n",
    "            cursor.deleteRow()\n",
    "\n",
    "with arcpy.da.UpdateCursor(\"va_spring_2019_spatialjoin\", \"victor_ashe_spring_2019_cbgs_count\") as cursor:\n",
    "    for row in cursor:\n",
    "        if row[0] is None:\n",
    "            cursor.deleteRow()\n",
    "\n",
    "with arcpy.da.UpdateCursor(\"va_spring_2020_spatialjoin\", \"victor_ashe_spring_2020_cbgs_count\") as cursor:\n",
    "    for row in cursor:\n",
    "        if row[0] is None:\n",
    "            cursor.deleteRow()\n",
    "            \n",
    "with arcpy.da.UpdateCursor(\"va_summer_2019_spatialjoin\", \"victor_ashe_summer_2019_cbgs_count\") as cursor:\n",
    "    for row in cursor:\n",
    "        if row[0] is None:\n",
    "            cursor.deleteRow()\n",
    "            \n",
    "with arcpy.da.UpdateCursor(\"va_summer_2020_spatialjoin\", \"victor_ashe_summer_2020_cbgs_count\") as cursor:\n",
    "    for row in cursor:\n",
    "        if row[0] is None:\n",
    "            cursor.deleteRow()\n",
    "            \n",
    "with arcpy.da.UpdateCursor(\"va_winter_2018_spatialjoin\", \"victor_ashe_winter_2018_cbgs_count\") as cursor:\n",
    "    for row in cursor:\n",
    "        if row[0] is None:\n",
    "            cursor.deleteRow()\n",
    "        \n",
    "with arcpy.da.UpdateCursor(\"va_winter_2019_spatialjoin\", \"victor_ashe_winter_2019_cbgs_count\") as cursor:\n",
    "    for row in cursor:\n",
    "        if row[0] is None:\n",
    "            cursor.deleteRow()"
   ]
  },
  {
   "cell_type": "markdown",
   "id": "7d92b5fb",
   "metadata": {},
   "source": [
    "### Create graphs of the OLS Regressions\n",
    "##### The OLS analyses were completed in ArcPro"
   ]
  },
  {
   "cell_type": "code",
   "execution_count": null,
   "id": "79f3f5c0",
   "metadata": {},
   "outputs": [],
   "source": [
    "Lakeshore_Fall_2019_OLS = pd.read_excel(r\"Y:\\18f_Chantelle_Rittmaier\\capstone project\\OLS_Figures_Maps\\OLS Tables\\Lakeshore_Fall_2019_OLS_Results_TableToExcel.xls\")\n",
    "Lakeshore_Fall_2020_OLS = pd.read_excel(r\"Y:\\18f_Chantelle_Rittmaier\\capstone project\\OLS_Figures_Maps\\OLS Tables\\Lakeshore_Fall_2020_OLS_Results_TableToExcel.xls\")\n",
    "Lakeshore_Spring_2019_OLS = pd.read_excel(r\"Y:\\18f_Chantelle_Rittmaier\\capstone project\\OLS_Figures_Maps\\OLS Tables\\Lakeshore_Spring_2019_OLS_Results_TableToExcel.xls\")\n",
    "Lakeshore_Spring_2020_OLS = pd.read_excel(r\"Y:\\18f_Chantelle_Rittmaier\\capstone project\\OLS_Figures_Maps\\OLS Tables\\Lakeshore_Spring_2020_OLS_Results_TableToExcel.xls\")\n",
    "Lakeshore_Summer_2019_OLS = pd.read_excel(r\"Y:\\18f_Chantelle_Rittmaier\\capstone project\\OLS_Figures_Maps\\OLS Tables\\Lakeshore_Summer_2019_OLS_Results_TableToExcel.xls\")\n",
    "Lakeshore_Summer_2020_OLS = pd.read_excel(r\"Y:\\18f_Chantelle_Rittmaier\\capstone project\\OLS_Figures_Maps\\OLS Tables\\Lakeshore_Summer_2020_OLS_Results_TableToExcel.xls\")\n",
    "Lakeshore_Winter_2018_OLS = pd.read_excel(r\"Y:\\18f_Chantelle_Rittmaier\\capstone project\\OLS_Figures_Maps\\OLS Tables\\Lakeshore_Winter_2018_OLS_Results_TableToExcel.xls\")\n",
    "Lakeshore_Winter_2019_OLS = pd.read_excel(r\"Y:\\18f_Chantelle_Rittmaier\\capstone project\\OLS_Figures_Maps\\OLS Tables\\Lakeshore_Winter_2019_OLS_Results_TableToExcel.xls\")\n",
    "\n",
    "Victor_Ashe_Fall_2019_OLS = pd.read_excel(r\"Y:\\18f_Chantelle_Rittmaier\\capstone project\\OLS_Figures_Maps\\OLS Tables\\Victor_Ashe_Fall_2019_OLS_Results_TableToExcel.xls\")\n",
    "Victor_Ashe_Fall_2020_OLS = pd.read_excel(r\"Y:\\18f_Chantelle_Rittmaier\\capstone project\\OLS_Figures_Maps\\OLS Tables\\Victor_Ashe_Fall_2020_OLS_Results_TableToExcel.xls\")\n",
    "Victor_Ashe_Spring_2019_OLS = pd.read_excel(r\"Y:\\18f_Chantelle_Rittmaier\\capstone project\\OLS_Figures_Maps\\OLS Tables\\Victor_Ashe_Spring_2019_OLS_Results_TableToExcel.xls\")\n",
    "Victor_Ashe_Spring_2020_OLS = pd.read_excel(r\"Y:\\18f_Chantelle_Rittmaier\\capstone project\\OLS_Figures_Maps\\OLS Tables\\Victor_Ashe_Spring_2020_OLS_Results_TableToExcel.xls\")\n",
    "Victor_Ashe_Summer_2019_OLS = pd.read_excel(r\"Y:\\18f_Chantelle_Rittmaier\\capstone project\\OLS_Figures_Maps\\OLS Tables\\Victor_Ashe_Summer_2019_OLS_Results_TableToExcel.xls\")\n",
    "Victor_Ashe_Summer_2020_OLS = pd.read_excel(r\"Y:\\18f_Chantelle_Rittmaier\\capstone project\\OLS_Figures_Maps\\OLS Tables\\Victor_Ashe_Summer_2020_OLS_Results_TableToExcel.xls\")\n",
    "Victor_Ashe_Winter_2018_OLS = pd.read_excel(r\"Y:\\18f_Chantelle_Rittmaier\\capstone project\\OLS_Figures_Maps\\OLS Tables\\Victor_Ashe_Winter_2018_OLS_Results_TableToExcel.xls\")\n",
    "Victor_Ashe_Winter_2019_OLS = pd.read_excel(r\"Y:\\18f_Chantelle_Rittmaier\\capstone project\\OLS_Figures_Maps\\OLS Tables\\Victor_Ashe_Winter_2019_OLS_Results_TableToExcel.xls\")"
   ]
  },
  {
   "cell_type": "markdown",
   "id": "2806547b",
   "metadata": {},
   "source": [
    "##### Lakeshore Park"
   ]
  },
  {
   "cell_type": "code",
   "execution_count": null,
   "id": "e956d651",
   "metadata": {},
   "outputs": [],
   "source": [
    "fig = px.scatter(Lakeshore_Fall_2019_OLS, x=\"NEAR_DIST_mile\", y=\"norm_ct\", trendline=\"ols\", trendline_options=dict(log_x=True))\n",
    "\n",
    "fig.show()"
   ]
  },
  {
   "cell_type": "code",
   "execution_count": null,
   "id": "172a8d76",
   "metadata": {},
   "outputs": [],
   "source": [
    "results = px.get_trendline_results(fig)\n",
    "results = results.iloc[0][\"px_fit_results\"].summary()\n",
    "print(results)"
   ]
  },
  {
   "cell_type": "code",
   "execution_count": null,
   "id": "1b7d3e6e",
   "metadata": {},
   "outputs": [],
   "source": [
    "fig = px.scatter(Lakeshore_Fall_2020_OLS, x=\"NEAR_DIST_mile\", y=\"norm_ct\", trendline=\"ols\", trendline_options=dict(log_x=True))\n",
    "\n",
    "fig.show()"
   ]
  },
  {
   "cell_type": "code",
   "execution_count": null,
   "id": "4cd03d5f",
   "metadata": {},
   "outputs": [],
   "source": [
    "results = px.get_trendline_results(fig)\n",
    "results = results.iloc[0][\"px_fit_results\"].summary()\n",
    "print(results)"
   ]
  },
  {
   "cell_type": "code",
   "execution_count": null,
   "id": "1d91a2f0",
   "metadata": {},
   "outputs": [],
   "source": [
    "fig = px.scatter(Lakeshore_Spring_2019_OLS, x=\"NEAR_DIST_mile\", y=\"norm_ct\", trendline=\"ols\", trendline_options=dict(log_x=True))\n",
    "\n",
    "fig.show()"
   ]
  },
  {
   "cell_type": "code",
   "execution_count": null,
   "id": "dd880c1a",
   "metadata": {},
   "outputs": [],
   "source": [
    "results = px.get_trendline_results(fig)\n",
    "results = results.iloc[0][\"px_fit_results\"].summary()\n",
    "print(results)"
   ]
  },
  {
   "cell_type": "code",
   "execution_count": null,
   "id": "1c942423",
   "metadata": {},
   "outputs": [],
   "source": [
    "fig = px.scatter(Lakeshore_Spring_2020_OLS, x=\"NEAR_DIST_mile\", y=\"norm_ct\", trendline=\"ols\", trendline_options=dict(log_x=True))\n",
    "\n",
    "fig.show()"
   ]
  },
  {
   "cell_type": "code",
   "execution_count": null,
   "id": "b60b88ce",
   "metadata": {},
   "outputs": [],
   "source": [
    "results = px.get_trendline_results(fig)\n",
    "results = results.iloc[0][\"px_fit_results\"].summary()\n",
    "print(results)"
   ]
  },
  {
   "cell_type": "code",
   "execution_count": null,
   "id": "ae34bed7",
   "metadata": {},
   "outputs": [],
   "source": [
    "fig = px.scatter(Lakeshore_Summer_2019_OLS, x=\"NEAR_DIST_mile\", y=\"norm_ct\", trendline=\"ols\", trendline_options=dict(log_x=True))\n",
    "\n",
    "fig.show()"
   ]
  },
  {
   "cell_type": "code",
   "execution_count": null,
   "id": "2eb61a68",
   "metadata": {},
   "outputs": [],
   "source": [
    "results = px.get_trendline_results(fig)\n",
    "results = results.iloc[0][\"px_fit_results\"].summary()\n",
    "print(results)"
   ]
  },
  {
   "cell_type": "code",
   "execution_count": null,
   "id": "f68fef37",
   "metadata": {},
   "outputs": [],
   "source": [
    "fig = px.scatter(Lakeshore_Summer_2020_OLS, x=\"NEAR_DIST_mile\", y=\"norm_ct\", trendline=\"ols\", trendline_options=dict(log_x=True))\n",
    "\n",
    "fig.show()"
   ]
  },
  {
   "cell_type": "code",
   "execution_count": null,
   "id": "783b10b5",
   "metadata": {},
   "outputs": [],
   "source": [
    "results = px.get_trendline_results(fig)\n",
    "results = results.iloc[0][\"px_fit_results\"].summary()\n",
    "print(results)"
   ]
  },
  {
   "cell_type": "code",
   "execution_count": null,
   "id": "c0049d4c",
   "metadata": {},
   "outputs": [],
   "source": [
    "fig = px.scatter(Lakeshore_Winter_2018_OLS, x=\"NEAR_DIST_mile\", y=\"norm_ct\", trendline=\"ols\", trendline_options=dict(log_x=True))\n",
    "\n",
    "fig.show()"
   ]
  },
  {
   "cell_type": "code",
   "execution_count": null,
   "id": "5eb88a4e",
   "metadata": {},
   "outputs": [],
   "source": [
    "results = px.get_trendline_results(fig)\n",
    "results = results.iloc[0][\"px_fit_results\"].summary()\n",
    "print(results)"
   ]
  },
  {
   "cell_type": "code",
   "execution_count": null,
   "id": "c52181bf",
   "metadata": {},
   "outputs": [],
   "source": [
    "fig = px.scatter(Lakeshore_Winter_2019_OLS, x=\"NEAR_DIST_mile\", y=\"norm_ct\", trendline=\"ols\", trendline_options=dict(log_x=True))\n",
    "\n",
    "fig.show()"
   ]
  },
  {
   "cell_type": "code",
   "execution_count": null,
   "id": "7c8ffaf0",
   "metadata": {},
   "outputs": [],
   "source": [
    "results = px.get_trendline_results(fig)\n",
    "results = results.iloc[0][\"px_fit_results\"].summary()\n",
    "print(results)"
   ]
  },
  {
   "cell_type": "markdown",
   "id": "b35b2f7d",
   "metadata": {},
   "source": [
    "##### Victor Ashe Park"
   ]
  },
  {
   "cell_type": "code",
   "execution_count": null,
   "id": "76e09ca5",
   "metadata": {},
   "outputs": [],
   "source": [
    "fig = px.scatter(Victor_Ashe_Fall_2019_OLS, x=\"NEAR_DIST_mile\", y=\"norm_ct\", trendline=\"ols\", trendline_options=dict(log_x=True))\n",
    "\n",
    "fig.show()"
   ]
  },
  {
   "cell_type": "code",
   "execution_count": null,
   "id": "739469f5",
   "metadata": {},
   "outputs": [],
   "source": [
    "results = px.get_trendline_results(fig)\n",
    "results = results.iloc[0][\"px_fit_results\"].summary()\n",
    "print(results)"
   ]
  },
  {
   "cell_type": "code",
   "execution_count": null,
   "id": "415ad252",
   "metadata": {},
   "outputs": [],
   "source": [
    "fig = px.scatter(Victor_Ashe_Fall_2020_OLS, x=\"NEAR_DIST_mile\", y=\"norm_ct\", trendline=\"ols\", trendline_options=dict(log_x=True))\n",
    "\n",
    "fig.show()"
   ]
  },
  {
   "cell_type": "code",
   "execution_count": null,
   "id": "6322ab0f",
   "metadata": {},
   "outputs": [],
   "source": [
    "results = px.get_trendline_results(fig)\n",
    "results = results.iloc[0][\"px_fit_results\"].summary()\n",
    "print(results)"
   ]
  },
  {
   "cell_type": "code",
   "execution_count": null,
   "id": "231c2387",
   "metadata": {},
   "outputs": [],
   "source": [
    "fig = px.scatter(Victor_Ashe_Spring_2019_OLS, x=\"NEAR_DIST_mile\", y=\"norm_ct\", trendline=\"ols\", trendline_options=dict(log_x=True))\n",
    "\n",
    "fig.show()"
   ]
  },
  {
   "cell_type": "code",
   "execution_count": null,
   "id": "5a4fa0ee",
   "metadata": {},
   "outputs": [],
   "source": [
    "results = px.get_trendline_results(fig)\n",
    "results = results.iloc[0][\"px_fit_results\"].summary()\n",
    "print(results)"
   ]
  },
  {
   "cell_type": "code",
   "execution_count": null,
   "id": "8c9fc604",
   "metadata": {},
   "outputs": [],
   "source": [
    "fig = px.scatter(Victor_Ashe_Spring_2020_OLS, x=\"NEAR_DIST_mile\", y=\"norm_ct\", trendline=\"ols\", trendline_options=dict(log_x=True))\n",
    "\n",
    "fig.show()"
   ]
  },
  {
   "cell_type": "code",
   "execution_count": null,
   "id": "dc5bfeab",
   "metadata": {},
   "outputs": [],
   "source": [
    "results = px.get_trendline_results(fig)\n",
    "results = results.iloc[0][\"px_fit_results\"].summary()\n",
    "print(results)"
   ]
  },
  {
   "cell_type": "code",
   "execution_count": null,
   "id": "e295c2ac",
   "metadata": {},
   "outputs": [],
   "source": [
    "fig = px.scatter(Victor_Ashe_Summer_2019_OLS, x=\"NEAR_DIST_mile\", y=\"norm_ct\", trendline=\"ols\", trendline_options=dict(log_x=True))\n",
    "\n",
    "fig.show()"
   ]
  },
  {
   "cell_type": "code",
   "execution_count": null,
   "id": "3d72e959",
   "metadata": {},
   "outputs": [],
   "source": [
    "results = px.get_trendline_results(fig)\n",
    "results = results.iloc[0][\"px_fit_results\"].summary()\n",
    "print(results)"
   ]
  },
  {
   "cell_type": "code",
   "execution_count": null,
   "id": "79cf39cb",
   "metadata": {},
   "outputs": [],
   "source": [
    "fig = px.scatter(Victor_Ashe_Summer_2020_OLS, x=\"NEAR_DIST_mile\", y=\"norm_ct\", trendline=\"ols\", trendline_options=dict(log_x=True))\n",
    "\n",
    "fig.show()"
   ]
  },
  {
   "cell_type": "code",
   "execution_count": null,
   "id": "aa2c63e5",
   "metadata": {},
   "outputs": [],
   "source": [
    "results = px.get_trendline_results(fig)\n",
    "results = results.iloc[0][\"px_fit_results\"].summary()\n",
    "print(results)"
   ]
  },
  {
   "cell_type": "code",
   "execution_count": null,
   "id": "3097bee2",
   "metadata": {},
   "outputs": [],
   "source": [
    "fig = px.scatter(Victor_Ashe_Winter_2018_OLS, x=\"NEAR_DIST_mile\", y=\"norm_ct\", trendline=\"ols\", trendline_options=dict(log_x=True))\n",
    "\n",
    "fig.show()"
   ]
  },
  {
   "cell_type": "code",
   "execution_count": null,
   "id": "c08a78fe",
   "metadata": {},
   "outputs": [],
   "source": [
    "results = px.get_trendline_results(fig)\n",
    "results = results.iloc[0][\"px_fit_results\"].summary()\n",
    "print(results)"
   ]
  },
  {
   "cell_type": "code",
   "execution_count": null,
   "id": "8df93c27",
   "metadata": {},
   "outputs": [],
   "source": [
    "fig = px.scatter(Victor_Ashe_Winter_2019_OLS, x=\"NEAR_DIST_mile\", y=\"norm_ct\", trendline=\"ols\", trendline_options=dict(log_x=True))\n",
    "\n",
    "fig.show()"
   ]
  },
  {
   "cell_type": "code",
   "execution_count": null,
   "id": "de63e774",
   "metadata": {},
   "outputs": [],
   "source": [
    "results = px.get_trendline_results(fig)\n",
    "results = results.iloc[0][\"px_fit_results\"].summary()\n",
    "print(results)"
   ]
  }
 ],
 "metadata": {
  "kernelspec": {
   "display_name": "Python 3 (ipykernel)",
   "language": "python",
   "name": "python3"
  },
  "language_info": {
   "codemirror_mode": {
    "name": "ipython",
    "version": 3
   },
   "file_extension": ".py",
   "mimetype": "text/x-python",
   "name": "python",
   "nbconvert_exporter": "python",
   "pygments_lexer": "ipython3",
   "version": "3.11.5"
  }
 },
 "nbformat": 4,
 "nbformat_minor": 5
}
